{
  "nbformat": 4,
  "nbformat_minor": 0,
  "metadata": {
    "colab": {
      "provenance": []
    },
    "kernelspec": {
      "name": "python3",
      "display_name": "Python 3"
    },
    "language_info": {
      "name": "python"
    }
  },
  "cells": [
    {
      "cell_type": "code",
      "execution_count": null,
      "metadata": {
        "id": "jd0wzqRvRaW3"
      },
      "outputs": [],
      "source": []
    },
    {
      "cell_type": "markdown",
      "source": [
        "**PYTORCH**\n",
        "\n",
        "It’s a Python based scientific computing package targeted at two sets of audiences:\n",
        "\n",
        "A replacement for NumPy to use the power of GPUs\n",
        "Deep learning research platform that provides maximum flexibility and speed\n",
        "Features:\n",
        "\n",
        "Interactively debugging PyTorch. Many users who have used both frameworks would argue that makes pytorch significantly easier to debug and visualize.\n",
        "\n",
        "Clean support for dynamic graphs\n",
        "\n",
        "Organizational backing from Facebook\n",
        "\n",
        "Blend of high level and low level APIs\n",
        "\n",
        "Highly used by researchers\n",
        "\n",
        "Highly used for generative AI projects\n"
      ],
      "metadata": {
        "id": "a1fR4Q6WRkLf"
      }
    },
    {
      "cell_type": "code",
      "source": [
        "import numpy as np\n",
        "import pandas as pd\n",
        "import matplotlib.pyplot as plt\n",
        "import torch\n"
      ],
      "metadata": {
        "id": "_mmbjIZLRiuJ"
      },
      "execution_count": null,
      "outputs": []
    },
    {
      "cell_type": "code",
      "source": [],
      "metadata": {
        "id": "lzcXWxRjRiw_"
      },
      "execution_count": null,
      "outputs": []
    },
    {
      "cell_type": "code",
      "source": [
        "\n",
        "array=[[1,2,4],[4,5,67]]\n",
        "first_array=np.array(array)\n",
        "print(first_array)\n",
        "print(type(first_array))"
      ],
      "metadata": {
        "colab": {
          "base_uri": "https://localhost:8080/"
        },
        "id": "De1Og-URRiz5",
        "outputId": "efa211b4-735c-4eea-c32a-d6cb534e69fe"
      },
      "execution_count": null,
      "outputs": [
        {
          "output_type": "stream",
          "name": "stdout",
          "text": [
            "[[ 1  2  4]\n",
            " [ 4  5 67]]\n",
            "<class 'numpy.ndarray'>\n"
          ]
        }
      ]
    },
    {
      "cell_type": "code",
      "source": [
        "import torch\n",
        "tensor=torch.Tensor(array)\n",
        "print(tensor)\n",
        "print(type(tensor))\n",
        "print(tensor.shape)\n",
        "\n"
      ],
      "metadata": {
        "colab": {
          "base_uri": "https://localhost:8080/"
        },
        "id": "740Kp7mdRi2l",
        "outputId": "d24e025e-d839-4022-bebe-a8a6b551da87"
      },
      "execution_count": null,
      "outputs": [
        {
          "output_type": "stream",
          "name": "stdout",
          "text": [
            "tensor([[ 1.,  2.,  4.],\n",
            "        [ 4.,  5., 67.]])\n",
            "<class 'torch.Tensor'>\n",
            "torch.Size([2, 3])\n"
          ]
        }
      ]
    },
    {
      "cell_type": "markdown",
      "source": [
        "Allocation is one of the most used technique in coding. Therefore lets learn how to make it with pytorch.\n",
        "\n",
        "In order to learn, compare numpy and tensor\n",
        "\n",
        "np.ones() = torch.ones()\n",
        "\n",
        "np.random.rand() = torch.rand()\n"
      ],
      "metadata": {
        "id": "zbucQpCFWphF"
      }
    },
    {
      "cell_type": "code",
      "source": [
        "print(\"Numpy {} \\n\".format(np.ones((2,3))))"
      ],
      "metadata": {
        "id": "0tzaoG6ORi5M",
        "colab": {
          "base_uri": "https://localhost:8080/"
        },
        "outputId": "33cadeb7-ed11-4e97-87b1-2700efa79111"
      },
      "execution_count": null,
      "outputs": [
        {
          "output_type": "stream",
          "name": "stdout",
          "text": [
            "Numpy [[1. 1. 1.]\n",
            " [1. 1. 1.]] \n",
            "\n"
          ]
        }
      ]
    },
    {
      "cell_type": "code",
      "source": [
        "print(torch.ones(2,3))"
      ],
      "metadata": {
        "id": "Wo63gizjRi7x",
        "colab": {
          "base_uri": "https://localhost:8080/"
        },
        "outputId": "a3d86b42-034f-4e24-f560-401d0f4b6736"
      },
      "execution_count": null,
      "outputs": [
        {
          "output_type": "stream",
          "name": "stdout",
          "text": [
            "tensor([[1., 1., 1.],\n",
            "        [1., 1., 1.]])\n"
          ]
        }
      ]
    },
    {
      "cell_type": "code",
      "source": [
        "print(np.random.rand(2,3))"
      ],
      "metadata": {
        "colab": {
          "base_uri": "https://localhost:8080/"
        },
        "id": "U1dQjczeXDE-",
        "outputId": "23a8cba0-6c42-46bb-a6bf-4d77dcae4d24"
      },
      "execution_count": null,
      "outputs": [
        {
          "output_type": "stream",
          "name": "stdout",
          "text": [
            "[[0.94334021 0.97632736 0.39757608]\n",
            " [0.41249037 0.13364528 0.46393572]]\n"
          ]
        }
      ]
    },
    {
      "cell_type": "code",
      "source": [
        "print(torch.rand(2,3))"
      ],
      "metadata": {
        "id": "PPqOxgxXRi-Z",
        "colab": {
          "base_uri": "https://localhost:8080/"
        },
        "outputId": "a6759499-aec8-44b3-a006-7dc20c0cab66"
      },
      "execution_count": null,
      "outputs": [
        {
          "output_type": "stream",
          "name": "stdout",
          "text": [
            "tensor([[0.9430, 0.0698, 0.0918],\n",
            "        [0.2644, 0.8451, 0.6791]])\n"
          ]
        }
      ]
    },
    {
      "cell_type": "code",
      "source": [],
      "metadata": {
        "id": "fzrBWUJjXHkm"
      },
      "execution_count": null,
      "outputs": []
    },
    {
      "cell_type": "markdown",
      "source": [
        "Lets look at conversion between tensor and numpy arrays.\n",
        "\n",
        "torch.from_numpy(): from numpy to tensor\n",
        "\n",
        "numpy(): from tensor to numpy"
      ],
      "metadata": {
        "id": "EZharVLsW7nq"
      }
    },
    {
      "cell_type": "code",
      "source": [
        "array=np.random.rand(2,2)\n",
        "array"
      ],
      "metadata": {
        "id": "yxaph2DIRjA9",
        "colab": {
          "base_uri": "https://localhost:8080/"
        },
        "outputId": "ad523dbb-23b4-4388-856e-6e2cfbd3395a"
      },
      "execution_count": null,
      "outputs": [
        {
          "output_type": "execute_result",
          "data": {
            "text/plain": [
              "array([[0.89001243, 0.77017838],\n",
              "       [0.75075511, 0.56305345]])"
            ]
          },
          "metadata": {},
          "execution_count": 9
        }
      ]
    },
    {
      "cell_type": "markdown",
      "source": [
        "Numpy to tensor"
      ],
      "metadata": {
        "id": "swtnGS2WZFc8"
      }
    },
    {
      "cell_type": "code",
      "source": [
        "from_numpy_to_tensor=torch.from_numpy(array)\n",
        "print(from_numpy_to_tensor)\n",
        "print(type(from_numpy_to_tensor))"
      ],
      "metadata": {
        "id": "R7rTXFo5RjDn",
        "colab": {
          "base_uri": "https://localhost:8080/"
        },
        "outputId": "d1f96598-a330-4c85-d306-7221686e7502"
      },
      "execution_count": null,
      "outputs": [
        {
          "output_type": "stream",
          "name": "stdout",
          "text": [
            "tensor([[0.8900, 0.7702],\n",
            "        [0.7508, 0.5631]], dtype=torch.float64)\n",
            "<class 'torch.Tensor'>\n"
          ]
        }
      ]
    },
    {
      "cell_type": "markdown",
      "source": [
        "tensor to numpy"
      ],
      "metadata": {
        "id": "iVLUaq4YZQns"
      }
    },
    {
      "cell_type": "code",
      "source": [
        "from_tensor_to_numpy=from_numpy_to_tensor.numpy()\n",
        "print(from_tensor_to_numpy)\n",
        "print(type(from_tensor_to_numpy))"
      ],
      "metadata": {
        "id": "z4fYY3-BRjGL",
        "colab": {
          "base_uri": "https://localhost:8080/"
        },
        "outputId": "66858e7e-42d2-4016-f3ad-fd0bb092d959"
      },
      "execution_count": null,
      "outputs": [
        {
          "output_type": "stream",
          "name": "stdout",
          "text": [
            "[[0.89001243 0.77017838]\n",
            " [0.75075511 0.56305345]]\n",
            "<class 'numpy.ndarray'>\n"
          ]
        }
      ]
    },
    {
      "cell_type": "code",
      "source": [],
      "metadata": {
        "id": "9osTYetjXK95"
      },
      "execution_count": null,
      "outputs": []
    },
    {
      "cell_type": "code",
      "source": [],
      "metadata": {
        "id": "gsdZQHemXLAZ"
      },
      "execution_count": null,
      "outputs": []
    },
    {
      "cell_type": "code",
      "source": [],
      "metadata": {
        "id": "fZsKvf36XLDy"
      },
      "execution_count": null,
      "outputs": []
    },
    {
      "cell_type": "markdown",
      "source": [
        "**Basic Math with Pytorch**\n",
        "\n",
        "Resize: view()\n",
        "\n",
        "a and b are tensor.\n",
        "\n",
        "Addition: torch.add(a,b) = a + b\n",
        "\n",
        "Subtraction: a.sub(b) = a - b\n",
        "\n",
        "Element wise multiplication: torch.mul(a,b) = a * b\n",
        "\n",
        "Element wise division: torch.div(a,b) = a / b\n",
        "\n",
        "Mean: a.mean()\n",
        "\n",
        "Standart Deviation (std): a.std()"
      ],
      "metadata": {
        "id": "Jhy_JdFzXLns"
      }
    },
    {
      "cell_type": "code",
      "source": [
        "tensor=torch.ones(3,3)\n",
        "tensor"
      ],
      "metadata": {
        "colab": {
          "base_uri": "https://localhost:8080/"
        },
        "id": "lEaJ1tqvXQr-",
        "outputId": "c8b59ef6-66fa-4357-af3d-cd7f6b7e5f4a"
      },
      "execution_count": null,
      "outputs": [
        {
          "output_type": "execute_result",
          "data": {
            "text/plain": [
              "tensor([[1., 1., 1.],\n",
              "        [1., 1., 1.],\n",
              "        [1., 1., 1.]])"
            ]
          },
          "metadata": {},
          "execution_count": 14
        }
      ]
    },
    {
      "cell_type": "code",
      "source": [
        "tensor"
      ],
      "metadata": {
        "colab": {
          "base_uri": "https://localhost:8080/"
        },
        "id": "K0Avv53faxdV",
        "outputId": "8b7a964a-a341-46e8-fa4b-53c0efadc816"
      },
      "execution_count": null,
      "outputs": [
        {
          "output_type": "execute_result",
          "data": {
            "text/plain": [
              "tensor([[1., 1., 1.],\n",
              "        [1., 1., 1.],\n",
              "        [1., 1., 1.]])"
            ]
          },
          "metadata": {},
          "execution_count": 18
        }
      ]
    },
    {
      "cell_type": "code",
      "source": [
        "print(tensor.view(9))\n",
        "print(tensor.view(9).shape)"
      ],
      "metadata": {
        "colab": {
          "base_uri": "https://localhost:8080/"
        },
        "id": "0yzaxUt-XQu_",
        "outputId": "0edc67e6-e469-491c-c178-d2766169cf01"
      },
      "execution_count": null,
      "outputs": [
        {
          "output_type": "stream",
          "name": "stdout",
          "text": [
            "tensor([1., 1., 1., 1., 1., 1., 1., 1., 1.])\n",
            "torch.Size([9])\n"
          ]
        }
      ]
    },
    {
      "cell_type": "code",
      "source": [
        "tensor2=torch.add(tensor,tensor)\n",
        "print(tensor2)"
      ],
      "metadata": {
        "colab": {
          "base_uri": "https://localhost:8080/"
        },
        "id": "xwhnx3ynXQyH",
        "outputId": "0e9c5e73-a5f2-4d3a-84f1-8608f4d2e6b7"
      },
      "execution_count": null,
      "outputs": [
        {
          "output_type": "stream",
          "name": "stdout",
          "text": [
            "tensor([[2., 2., 2.],\n",
            "        [2., 2., 2.],\n",
            "        [2., 2., 2.]])\n"
          ]
        }
      ]
    },
    {
      "cell_type": "code",
      "source": [
        "tensor"
      ],
      "metadata": {
        "colab": {
          "base_uri": "https://localhost:8080/"
        },
        "id": "MxYdl2RQa6Aw",
        "outputId": "8f4095d4-7179-4eeb-daf4-2670a5ee5f50"
      },
      "execution_count": null,
      "outputs": [
        {
          "output_type": "execute_result",
          "data": {
            "text/plain": [
              "tensor([[1., 1., 1.],\n",
              "        [1., 1., 1.],\n",
              "        [1., 1., 1.]])"
            ]
          },
          "metadata": {},
          "execution_count": 19
        }
      ]
    },
    {
      "cell_type": "code",
      "source": [
        "print(torch.sub(tensor,tensor))"
      ],
      "metadata": {
        "colab": {
          "base_uri": "https://localhost:8080/"
        },
        "id": "jIfefl0CXQ1Q",
        "outputId": "8651a3bd-1483-4aca-cac3-e87b19af1988"
      },
      "execution_count": null,
      "outputs": [
        {
          "output_type": "stream",
          "name": "stdout",
          "text": [
            "tensor([[0., 0., 0.],\n",
            "        [0., 0., 0.],\n",
            "        [0., 0., 0.]])\n"
          ]
        }
      ]
    },
    {
      "cell_type": "code",
      "source": [
        "print(torch.mul(tensor,tensor2))"
      ],
      "metadata": {
        "colab": {
          "base_uri": "https://localhost:8080/"
        },
        "id": "mAmtYH0zXQ38",
        "outputId": "c1f1d619-8d75-4fe9-ce2b-546b94ef4bbb"
      },
      "execution_count": null,
      "outputs": [
        {
          "output_type": "stream",
          "name": "stdout",
          "text": [
            "tensor([[2., 2., 2.],\n",
            "        [2., 2., 2.],\n",
            "        [2., 2., 2.]])\n"
          ]
        }
      ]
    },
    {
      "cell_type": "code",
      "source": [
        "print(torch.div(tensor2,tensor))"
      ],
      "metadata": {
        "colab": {
          "base_uri": "https://localhost:8080/"
        },
        "id": "juFHzQCxbO3h",
        "outputId": "257fc6d0-6360-4057-8578-d128e03b31f6"
      },
      "execution_count": null,
      "outputs": [
        {
          "output_type": "stream",
          "name": "stdout",
          "text": [
            "tensor([[2., 2., 2.],\n",
            "        [2., 2., 2.],\n",
            "        [2., 2., 2.]])\n"
          ]
        }
      ]
    },
    {
      "cell_type": "code",
      "source": [
        "tensor3=torch.Tensor([1,3,4,6,7])\n",
        "print(\"Mean {}\".format(tensor3.mean()))\n",
        "print(tensor3.mean())"
      ],
      "metadata": {
        "colab": {
          "base_uri": "https://localhost:8080/"
        },
        "id": "amr9JAiObO6f",
        "outputId": "0ca32468-5bc7-4fe5-828d-43f4025e26c1"
      },
      "execution_count": null,
      "outputs": [
        {
          "output_type": "stream",
          "name": "stdout",
          "text": [
            "Mean 4.199999809265137\n",
            "tensor(4.2000)\n"
          ]
        }
      ]
    },
    {
      "cell_type": "code",
      "source": [
        "print(\"Std {}\".format(tensor3.std()))"
      ],
      "metadata": {
        "colab": {
          "base_uri": "https://localhost:8080/"
        },
        "id": "qgPBaC4BbO9Y",
        "outputId": "f61e227e-8bf6-4301-f901-f4fbca9ef6f4"
      },
      "execution_count": null,
      "outputs": [
        {
          "output_type": "stream",
          "name": "stdout",
          "text": [
            "Std 2.387467384338379\n"
          ]
        }
      ]
    },
    {
      "cell_type": "markdown",
      "source": [],
      "metadata": {
        "id": "6AUvhyqVRjZj"
      }
    }
  ]
}