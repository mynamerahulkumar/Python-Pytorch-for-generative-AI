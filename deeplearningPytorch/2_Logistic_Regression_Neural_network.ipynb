{
  "nbformat": 4,
  "nbformat_minor": 0,
  "metadata": {
    "colab": {
      "provenance": []
    },
    "kernelspec": {
      "name": "python3",
      "display_name": "Python 3"
    },
    "language_info": {
      "name": "python"
    }
  },
  "cells": [
    {
      "cell_type": "markdown",
      "source": [
        "**Logistic Regression**"
      ],
      "metadata": {
        "id": "OPlMfRDxS_fa"
      }
    },
    {
      "cell_type": "markdown",
      "source": [
        "**Overview the Data Set**\n",
        "\n",
        "We will use \"sign language digits data set\" for this tutorial.\n",
        "\n",
        "In this data there are 2062 sign language digits images.\n",
        "\n",
        "As you know digits are from 0 to 9. Therefore there are 10 unique sign.\n",
        "\n",
        "At the beginning of tutorial we will use only sign 0 and 1 for simplicity.\n",
        "\n",
        "In data, sign zero is between indexes 204 and 408. Number of zero sign is 205.\n",
        "\n",
        "Also sign one is between indexes 822 and 1027. Number of one sign is 206.\n",
        "\n",
        "Therefore, we will use 205 samples from each classes(labels).\n",
        "\n",
        "Note: Actually 205 sample is very very very little for deep learning. But this is tutorial so it does not matter so much.\n",
        "\n",
        "Lets prepare our X and Y arrays. X is image array (zero and one signs) and Y is label array (0 and 1)."
      ],
      "metadata": {
        "id": "-lZror3vTFg-"
      }
    },
    {
      "cell_type": "markdown",
      "source": [
        "/content/drive/MyDrive/A_doc_imp/A_Udeyme/A_Python_and_Pytorch_for_generative_AI/Pytorch/data/X.npy"
      ],
      "metadata": {
        "id": "RystKfT4S3s4"
      }
    },
    {
      "cell_type": "code",
      "source": [
        "import numpy as np\n",
        "import pandas as pd\n",
        "import matplotlib.pyplot as plt\n",
        "\n"
      ],
      "metadata": {
        "id": "VsgvKWlpS3C8"
      },
      "execution_count": null,
      "outputs": []
    },
    {
      "cell_type": "code",
      "source": [
        "from google.colab import drive\n",
        "drive.mount('/content/drive')"
      ],
      "metadata": {
        "id": "iWnfN9Zh9aMO"
      },
      "execution_count": null,
      "outputs": []
    },
    {
      "cell_type": "markdown",
      "source": [],
      "metadata": {
        "id": "m-3JxjNH6s_s"
      }
    },
    {
      "cell_type": "code",
      "source": [
        "x=np.load('/content/drive/MyDrive/A_doc_imp/A_Udeyme/A_Python_and_Pytorch_for_generative_AI/Pytorch/data/X.npy')\n",
        "y=np.load('/content/drive/MyDrive/A_doc_imp/A_Udeyme/A_Python_and_Pytorch_for_generative_AI/Pytorch/data/Y.npy')\n",
        "\n",
        "img_size=64\n",
        "plt.subplot(1,2,1)\n",
        "plt.imshow(x[261].reshape(img_size,img_size))\n",
        "plt.axis(\"off\")\n",
        "plt.subplot(1,2,2)\n",
        "plt.imshow(x[823].reshape(img_size,img_size))\n",
        "\n",
        "plt.axis(\"off\")"
      ],
      "metadata": {
        "colab": {
          "base_uri": "https://localhost:8080/",
          "height": 279
        },
        "id": "P4f0BEARS3EW",
        "outputId": "bd0200d2-dcd5-4086-cf89-a7190aea29e0"
      },
      "execution_count": null,
      "outputs": [
        {
          "output_type": "execute_result",
          "data": {
            "text/plain": [
              "(np.float64(-0.5), np.float64(63.5), np.float64(63.5), np.float64(-0.5))"
            ]
          },
          "metadata": {},
          "execution_count": 2
        },
        {
          "output_type": "display_data",
          "data": {
            "text/plain": [
              "<Figure size 640x480 with 2 Axes>"
            ],
            "image/png": "[encoded data removed]"
          },
          "metadata": {}
        }
      ]
    },
    {
      "cell_type": "code",
      "source": [],
      "metadata": {
        "id": "--DmUui4S3G-"
      },
      "execution_count": null,
      "outputs": []
    },
    {
      "cell_type": "markdown",
      "source": [
        "In order to create image array, I concatenate zero sign and one sign arrays\n",
        "\n",
        "Then I create label array 0 for zero sign images and 1 for one sign images."
      ],
      "metadata": {
        "id": "fRtFUF_V1IgO"
      }
    },
    {
      "cell_type": "code",
      "source": [
        "X=np.concatenate((x[204:409],x[822:1027]),axis=0)\n",
        "print(X.shape)\n"
      ],
      "metadata": {
        "colab": {
          "base_uri": "https://localhost:8080/"
        },
        "id": "tt9z2NweS3J3",
        "outputId": "37814fc8-b282-4419-e337-eaee1a3560e6"
      },
      "execution_count": null,
      "outputs": [
        {
          "output_type": "stream",
          "name": "stdout",
          "text": [
            "(410, 64, 64)\n"
          ]
        }
      ]
    },
    {
      "cell_type": "markdown",
      "source": [],
      "metadata": {
        "id": "QqOvccc31XqW"
      }
    },
    {
      "cell_type": "code",
      "source": [
        "z=np.zeros(205)\n",
        "o=np.ones(205)\n",
        "Y=np.concatenate((z,o),axis=0).reshape(X.shape[0],1)\n",
        "print(Y.shape)\n"
      ],
      "metadata": {
        "colab": {
          "base_uri": "https://localhost:8080/"
        },
        "id": "5RMwHkuM1VzN",
        "outputId": "8470edee-6352-49bf-e788-22ca503e4b8a"
      },
      "execution_count": null,
      "outputs": [
        {
          "output_type": "stream",
          "name": "stdout",
          "text": [
            "(410, 1)\n"
          ]
        }
      ]
    },
    {
      "cell_type": "code",
      "source": [],
      "metadata": {
        "id": "qJT9oPzv1WDy"
      },
      "execution_count": null,
      "outputs": []
    },
    {
      "cell_type": "code",
      "source": [],
      "metadata": {
        "id": "ekvnHZqt1WGe"
      },
      "execution_count": null,
      "outputs": []
    },
    {
      "cell_type": "code",
      "source": [],
      "metadata": {
        "id": "SKZqykZs1WJU"
      },
      "execution_count": null,
      "outputs": []
    },
    {
      "cell_type": "code",
      "source": [],
      "metadata": {
        "id": "R6FXCOT_1WL8"
      },
      "execution_count": null,
      "outputs": []
    },
    {
      "cell_type": "markdown",
      "source": [
        "The shape of the X is (410, 64, 64)\n",
        "\n",
        "410 means that we have 410 images (zero and one signs)\n",
        "\n",
        "64 means that our image size is 64x64 (64x64 pixels)\n",
        "\n",
        "The shape of the Y is (410,1)\n",
        "\n",
        "410 means that we have 410 labels (0 and 1)\n",
        "\n",
        "Lets split X and Y into train and test sets.\n",
        "\n",
        "test_size = percentage of test size. test = 15% and train = 85%\n",
        "\n",
        "random_state = use same seed while randomizing. It means that if we call\n",
        "\n",
        "train_test_split repeatedly, it always creates same train and test distribution\n",
        "because we have same random_state."
      ],
      "metadata": {
        "id": "RtRArLLe1aT0"
      }
    },
    {
      "cell_type": "code",
      "source": [
        "from sklearn.model_selection import train_test_split\n",
        "X_train,X_test,Y_train,Y_test=train_test_split(X,Y,test_size=0.15,random_state=42)\n",
        "training_data_size=X_train.shape[0]\n",
        "test_data_size=X_test.shape[0]\n",
        "print(training_data_size)\n",
        "print(test_data_size)\n"
      ],
      "metadata": {
        "colab": {
          "base_uri": "https://localhost:8080/"
        },
        "id": "wSxjh3RE1WOr",
        "outputId": "5be03fb9-f7fb-4ce8-def0-9ad95c9f7997"
      },
      "execution_count": null,
      "outputs": [
        {
          "output_type": "stream",
          "name": "stdout",
          "text": [
            "348\n",
            "62\n"
          ]
        }
      ]
    },
    {
      "cell_type": "code",
      "source": [
        "print(X_train.shape)"
      ],
      "metadata": {
        "id": "1mDfanPM1WRY",
        "colab": {
          "base_uri": "https://localhost:8080/"
        },
        "outputId": "1b5aeacd-43a5-49bb-dca9-bd821e2c0a65"
      },
      "execution_count": null,
      "outputs": [
        {
          "output_type": "stream",
          "name": "stdout",
          "text": [
            "(348, 64, 64)\n"
          ]
        }
      ]
    },
    {
      "cell_type": "code",
      "source": [
        "print(Y_train.shape)"
      ],
      "metadata": {
        "id": "zE7XwpbF1WT4",
        "colab": {
          "base_uri": "https://localhost:8080/"
        },
        "outputId": "65eb9410-eba8-4327-a4eb-4eb881d40f06"
      },
      "execution_count": null,
      "outputs": [
        {
          "output_type": "stream",
          "name": "stdout",
          "text": [
            "(348, 1)\n"
          ]
        }
      ]
    },
    {
      "cell_type": "code",
      "source": [
        "print(X_train[0])"
      ],
      "metadata": {
        "colab": {
          "base_uri": "https://localhost:8080/"
        },
        "id": "9q1lVyXg8KIK",
        "outputId": "393fd889-8196-439d-8d2a-5f99d824f374"
      },
      "execution_count": null,
      "outputs": [
        {
          "output_type": "stream",
          "name": "stdout",
          "text": [
            "[[0.7764706  0.7921569  0.79607844 ... 0.81960785 0.8117647  0.79607844]\n",
            " [0.7921569  0.8        0.80784315 ... 0.827451   0.81960785 0.8039216 ]\n",
            " [0.83137256 0.8352941  0.84313726 ... 0.8235294  0.81960785 0.80784315]\n",
            " ...\n",
            " [0.7764706  0.78431374 0.7882353  ... 0.7882353  0.78431374 0.7764706 ]\n",
            " [0.77254903 0.7764706  0.78431374 ... 0.78431374 0.7764706  0.77254903]\n",
            " [0.7647059  0.76862746 0.7764706  ... 0.78431374 0.7764706  0.76862746]]\n"
          ]
        }
      ]
    },
    {
      "cell_type": "code",
      "source": [
        "X_train_flattern=X_train.reshape(training_data_size,X_train.shape[1]*X_train.shape[2])\n",
        "X_train_flattern\n",
        "\n",
        "X_test_flattern=X_test.reshape(test_data_size,X_test.shape[1]*X_test.shape[2])"
      ],
      "metadata": {
        "id": "bsdtEQ8O1Wnn"
      },
      "execution_count": null,
      "outputs": []
    },
    {
      "cell_type": "code",
      "source": [
        "print(X_train_flattern[0])"
      ],
      "metadata": {
        "id": "-w419mZK1Wqe",
        "colab": {
          "base_uri": "https://localhost:8080/"
        },
        "outputId": "b5464170-44a4-4fb4-9407-18c0592e432b"
      },
      "execution_count": null,
      "outputs": [
        {
          "output_type": "stream",
          "name": "stdout",
          "text": [
            "[0.7764706  0.7921569  0.79607844 ... 0.78431374 0.7764706  0.76862746]\n"
          ]
        }
      ]
    },
    {
      "cell_type": "code",
      "source": [
        "print(Y_train[0])"
      ],
      "metadata": {
        "id": "AKD6-9py1Wti",
        "colab": {
          "base_uri": "https://localhost:8080/"
        },
        "outputId": "b2f111c6-561a-4f39-c294-b01cfe246819"
      },
      "execution_count": null,
      "outputs": [
        {
          "output_type": "stream",
          "name": "stdout",
          "text": [
            "[1.]\n"
          ]
        }
      ]
    },
    {
      "cell_type": "code",
      "source": [
        "print(X_train_flattern.shape)"
      ],
      "metadata": {
        "colab": {
          "base_uri": "https://localhost:8080/"
        },
        "id": "LE82jJsO8kY1",
        "outputId": "c8017655-f7c4-4a1a-a7dc-871988872ecc"
      },
      "execution_count": null,
      "outputs": [
        {
          "output_type": "stream",
          "name": "stdout",
          "text": [
            "(348, 4096)\n"
          ]
        }
      ]
    },
    {
      "cell_type": "code",
      "source": [
        "print(Y_train.shape)"
      ],
      "metadata": {
        "colab": {
          "base_uri": "https://localhost:8080/"
        },
        "id": "63iw6qyL8kck",
        "outputId": "cc032c47-b67a-47b4-b312-dafb4fda9357"
      },
      "execution_count": null,
      "outputs": [
        {
          "output_type": "stream",
          "name": "stdout",
          "text": [
            "(348, 1)\n"
          ]
        }
      ]
    },
    {
      "cell_type": "markdown",
      "source": [
        "Now we have 3 dimensional input array (X) so we need to make it flatten (2D) in\n",
        "order to use as input for our first deep learning model.\n",
        "\n",
        "Our label array (Y) is already flatten(2D) so we leave it like that.\n",
        "Lets flatten X array(images array).\n"
      ],
      "metadata": {
        "id": "rI335ggX1hQF"
      }
    },
    {
      "cell_type": "markdown",
      "source": [
        "**Why Transpose?**\n",
        "\n",
        "Neural Networks (especially when using vectorized computations in NumPy) prefer data in the shape (features, samples) rather than (samples, features).\n",
        "\n",
        "Transposing changes the shape from (samples, features) to (features, samples), which is useful for matrix operations like dot products in deep learning.\n",
        "\n"
      ],
      "metadata": {
        "id": "Gnf0jTdg7MfZ"
      }
    },
    {
      "cell_type": "code",
      "source": [
        "x_train=X_train_flattern.T\n",
        "x_test=X_test_flattern.T\n",
        "y_train=Y_train.T\n",
        "y_test=Y_test.T\n",
        "print(\" x train\",x_train.shape)\n",
        "print(\" x test \",x_test.shape)\n",
        "\n",
        "print(\" y train \",y_train.shape)\n",
        "\n",
        "print(\" y test \",y_test.shape)\n",
        "\n"
      ],
      "metadata": {
        "id": "nXIBoiHa1WwJ",
        "colab": {
          "base_uri": "https://localhost:8080/"
        },
        "outputId": "99d13aeb-7c27-44e1-a47c-101e8b9a45bc"
      },
      "execution_count": null,
      "outputs": [
        {
          "output_type": "stream",
          "name": "stdout",
          "text": [
            " x train (4096, 348)\n",
            " x test  (4096, 62)\n",
            " y train  (1, 348)\n",
            " y test  (1, 62)\n"
          ]
        }
      ]
    },
    {
      "cell_type": "markdown",
      "source": [
        "As you can see, we have 348 images and each image has 4096 pixels in image train array.\n",
        "\n",
        "Also, we have 62 images and each image has 4096 pixels in image test array.\n",
        "\n",
        "Then lets take transpose. You can say that WHYY, actually there is no technical answer. I just write the code(code that you will see oncoming parts) according to it :)"
      ],
      "metadata": {
        "id": "at7l_MnW1lYV"
      }
    },
    {
      "cell_type": "markdown",
      "source": [
        "<font color='purple'>\n",
        "\n",
        "What we did up to this point:\n",
        "\n",
        "* Choose our labels (classes) that are sign zero and sign one\n",
        "* Create and flatten train and test sets\n",
        "* Our final inputs(images) and outputs(labels or classes) looks like this:\n",
        "<a href=\"http://ibb.co/bWMK7c\"><img src=\"http://image.ibb.co/fOqCSc/3.png\" alt=\"3\" border=\"0\"></a>"
      ],
      "metadata": {
        "id": "prg417Co1zj8"
      }
    },
    {
      "cell_type": "markdown",
      "source": [],
      "metadata": {
        "id": "KF3H8lBX1yUB"
      }
    },
    {
      "cell_type": "code",
      "source": [],
      "metadata": {
        "id": "5iJ34dAd1-5M"
      },
      "execution_count": null,
      "outputs": []
    },
    {
      "cell_type": "code",
      "source": [],
      "metadata": {
        "id": "2TKtzbZu1-78"
      },
      "execution_count": null,
      "outputs": []
    },
    {
      "cell_type": "code",
      "source": [],
      "metadata": {
        "id": "kYKciWBE1--h"
      },
      "execution_count": null,
      "outputs": []
    },
    {
      "cell_type": "code",
      "source": [],
      "metadata": {
        "id": "Ql5Mcq4i1_BY"
      },
      "execution_count": null,
      "outputs": []
    },
    {
      "cell_type": "markdown",
      "source": [
        "<a id=\"3\"></a> <br>\n",
        "# Logistic Regression\n",
        "* When we talk about binary classification( 0 and 1 outputs) what comes to mind first is logistic regression.\n",
        "* However, in deep learning tutorial what to do with logistic regression there??\n",
        "* The answer is that  logistic regression is actually a very simple neural network.\n",
        "* By the way neural network and deep learning are same thing. When we will come artificial neural network, I will explain detailed the terms like \"deep\".\n",
        "* In order to understand logistic regression (simple deep learning) lets first learn computation graph."
      ],
      "metadata": {
        "id": "j5JvENCw1_Nv"
      }
    },
    {
      "cell_type": "code",
      "source": [],
      "metadata": {
        "id": "szOoFiWcS3Mz"
      },
      "execution_count": null,
      "outputs": []
    },
    {
      "cell_type": "markdown",
      "source": [
        "<a id=\"4\"></a> <br>\n",
        "##  Computation Graph\n",
        "* Computation graphs are a nice way to think about mathematical expressions.\n",
        "* It is like visualization of  mathematical expressions.\n",
        "* For example we have $$c = \\sqrt{a^2 + b^2}$$\n",
        "* It's computational graph is this. As you can see we express math with graph.\n",
        "<a href=\"http://imgbb.com/\"><img src=\"http://image.ibb.co/hWn6Lx/d.jpg\" alt=\"d\" border=\"0\"></a>"
      ],
      "metadata": {
        "id": "TrxZ676N2CkC"
      }
    },
    {
      "cell_type": "markdown",
      "source": [
        "* Now lets look at computation graph of logistic regression\n",
        "<a href=\"http://ibb.co/c574qx\"><img src=\"http://preview.ibb.co/cxP63H/5.jpg\" alt=\"5\" border=\"0\"></a>\n",
        "    * Parameters are weight and bias.\n",
        "    * Weights: coefficients of each pixels\n",
        "    * Bias: intercept\n",
        "    * z = (w.t)x + b  => z equals to (transpose of weights times input x) + bias\n",
        "    * In an other saying => z = b + px1*w1 + px2*w2 + ... + px4096*w4096\n",
        "    * y_head = sigmoid(z)\n",
        "    * Sigmoid function makes z between zero and one so that is probability. You can see sigmoid function in computation graph.\n",
        "* Why we use sigmoid function?\n",
        "    * It gives probabilistic result\n",
        "    * It is derivative so we can use it in gradient descent algorithm (we will see as soon.)\n",
        "* Lets make example:\n",
        "    * Lets say we find z = 4 and put z into sigmoid function. The result(y_head) is almost 0.9. It means that our classification result is 1 with 90% probability.\n",
        "* Now lets start with from beginning and examine each component of computation graph more detailed."
      ],
      "metadata": {
        "id": "OD2sJbmA2F-U"
      }
    },
    {
      "cell_type": "markdown",
      "source": [
        "<a id=\"5\"></a> <br>\n",
        "## Initializing parameters\n",
        "* As you know input is our images that has 4096 pixels(each image in x_train).\n",
        "* Each pixels have own weights.\n",
        "* The first step is multiplying each pixels with their own weights.\n",
        "* The question is that what is the initial value of weights?\n",
        "    * There are some techniques that I will explain at artificial neural network but for this time initial weights are 0.01.\n",
        "    * Okey, weights are 0.01 but what is the weight array shape? As you understand from computation graph of logistic regression, it is (4096,1)\n",
        "    * Also initial bias is 0.\n",
        "* Lets write some code. In order to use at coming topics like artificial neural network (ANN), I make definition(method)."
      ],
      "metadata": {
        "id": "bXc65c562JUA"
      }
    },
    {
      "cell_type": "code",
      "source": [
        "def intialize_weight_and_bias(dimension,bias=0.0,weight=0.01):\n",
        "  w=np.full((dimension,1),weight)\n",
        "  b=bias\n",
        "  return w,b"
      ],
      "metadata": {
        "id": "EYK3gAI1-V4M"
      },
      "execution_count": null,
      "outputs": []
    },
    {
      "cell_type": "code",
      "source": [],
      "metadata": {
        "id": "F44soH1Y-V6_"
      },
      "execution_count": null,
      "outputs": []
    },
    {
      "cell_type": "code",
      "source": [],
      "metadata": {
        "id": "E5Uwd8Wn-V94"
      },
      "execution_count": null,
      "outputs": []
    },
    {
      "cell_type": "code",
      "source": [
        "def sigmoid(z):\n",
        "  y_head=1/(1+np.exp(-z))\n",
        "  return y_head"
      ],
      "metadata": {
        "id": "NI45BtDk-WNH"
      },
      "execution_count": null,
      "outputs": []
    },
    {
      "cell_type": "code",
      "source": [
        "y_head=sigmoid(0)\n",
        "print(y_head)"
      ],
      "metadata": {
        "id": "Um3GZpr8-WPz",
        "colab": {
          "base_uri": "https://localhost:8080/"
        },
        "outputId": "da92b1cd-296f-472a-8f3b-047c0d502062"
      },
      "execution_count": null,
      "outputs": [
        {
          "output_type": "stream",
          "name": "stdout",
          "text": [
            "0.5\n"
          ]
        }
      ]
    },
    {
      "cell_type": "code",
      "source": [],
      "metadata": {
        "id": "rUnimsEs-WSD"
      },
      "execution_count": null,
      "outputs": []
    },
    {
      "cell_type": "code",
      "source": [],
      "metadata": {
        "id": "VqjulTDC-WUz"
      },
      "execution_count": null,
      "outputs": []
    },
    {
      "cell_type": "code",
      "source": [],
      "metadata": {
        "id": "a5hb5xP5-WXY"
      },
      "execution_count": null,
      "outputs": []
    },
    {
      "cell_type": "markdown",
      "source": [
        "* As we write sigmoid method and calculate y_head. Lets learn what is loss(error) function\n",
        "* Lets make example, I put one image as input then multiply it with their weights and add bias term so I find z. Then put z into sigmoid method so I find y_head. Up to this point we know what we did. Then e.g y_head became 0.9 that is bigger than 0.5 so our prediction is image is sign one image. Okey every thing looks like fine. But, is our prediction is correct and how do we check whether it is correct or not? The answer is with loss(error) function:\n",
        "    * Mathematical expression of log loss(error) function is that:\n",
        "    <a href=\"https://imgbb.com/\"><img src=\"https://image.ibb.co/eC0JCK/duzeltme.jpg\" alt=\"duzeltme\" border=\"0\"></a>\n",
        "    * It says that if you make wrong prediction, loss(error) becomes big. **DENKLEM DUZELTME**\n",
        "        * Example: our real image is sign one and its label is 1 (y = 1), then we make prediction y_head = 1. When we put y and y_head into loss(error) equation the result is 0. We make correct prediction therefore our loss is 0. However, if we make wrong prediction like y_head = 0, loss(error) is infinity.\n",
        "* After that, the cost function is summation of loss function. Each image creates loss function. Cost function is summation of loss functions that is created by each input image.\n",
        "* Lets implement forward propagation.\n"
      ],
      "metadata": {
        "id": "_E1x0ukGBPRH"
      }
    },
    {
      "cell_type": "code",
      "source": [
        "def forward_propagation(w,b,x_train,y_train):\n",
        "  z=np.dot(w.T,x_train)+b\n",
        "  y_head=sigmoid(z)\n",
        "  loss=-y_train*np.log(y_head)-(1-y_train)*np.log(1-y_head)\n",
        "  cost=(np.sum(loss))/x_train.shape[1]\n",
        "  return cost"
      ],
      "metadata": {
        "id": "lA8hybADBSHN"
      },
      "execution_count": null,
      "outputs": []
    },
    {
      "cell_type": "code",
      "source": [],
      "metadata": {
        "id": "MzlO7sq-BSJ0"
      },
      "execution_count": null,
      "outputs": []
    },
    {
      "cell_type": "code",
      "source": [],
      "metadata": {
        "id": "tna5IPZLBSMo"
      },
      "execution_count": null,
      "outputs": []
    },
    {
      "cell_type": "code",
      "source": [],
      "metadata": {
        "id": "mYdUWjSiBSPa"
      },
      "execution_count": null,
      "outputs": []
    },
    {
      "cell_type": "code",
      "source": [],
      "metadata": {
        "id": "UyBFA9mmBSR5"
      },
      "execution_count": null,
      "outputs": []
    },
    {
      "cell_type": "markdown",
      "source": [
        "<a id=\"7\"></a> <br>\n",
        "##  Optimization Algorithm with Gradient Descent\n",
        "* Well, now we know what is our cost that is error.\n",
        "* Therefore, we need to decrease cost because as we know if cost is high it means that we make wrong prediction.\n",
        "* Lets think first step, every thing starts with initializing weights and bias. Therefore cost is dependent with them.\n",
        "* In order to decrease cost, we need to update weights and bias.\n",
        "* In other words, our model needs to learn the parameters weights and bias that minimize cost function. This technique is called gradient descent.\n",
        "* Lets make an example:\n",
        "    * We have w = 5 and bias = 0 (so ignore bias for now). Then we make forward propagation and our cost function is 1.5.\n",
        "    * It looks like this. (red lines)\n",
        "    <a href=\"http://imgbb.com/\"><img src=\"http://image.ibb.co/dAaYJH/7.jpg\" alt=\"7\" border=\"0\"></a>\n",
        "    * As you can see from graph, we are not at minimum point of cost function. Therefore we need to go through minimum cost. Okey, lets update weight. ( the symbol := is updating)\n",
        "    * w := w - step. The question is what is this step? Step is slope1. Okey, it looks remarkable. In order to find minimum point, we can use slope1. Then lets say slope1 = 3 and update our weight. w := w - slope1 => w = 2.\n",
        "    * Now, our weight w is 2. As you remember, we need to find cost function with forward propagation again.\n",
        "    * Lets say according to forward propagation with w = 2, cost function is 0.4. Hmm, we are at right way because our cost function is decrease. We have new value for cost function that is cost = 0.4. Is that enough? Actually I do not know lets try one more step.\n",
        "    * Slope2 = 0.7 and w = 2. Lets update weight w : = w - step(slope2) => w = 1.3 that is new weight. So lets find new cost.\n",
        "    * Make one more forward propagation with w = 1.3 and our cost = 0.3. Okey, our cost even decreased, it looks like fine but is it enough or do we need to make one more step? The answer is again I do not know, lets try.\n",
        "    * Slope3 = 0.01 and w = 1.3. Updating weight w := w - step(slope3) => w = 1.29 ~ 1.3. So weight does not change because we find minimum point of cost function.\n",
        "    * Everything looks like good but how we find slope? If you remember from high school or university, in order to find slope of function(cost function) at given point(at given weight) we take derivative of function at given point. Also you can ask that okey well we find slope but how it knows where it go. You can say that it can go more higher cost values instead of going minimum point. The asnwer is that slope(derivative) gives both step and direction of step. Therefore do not worry :)\n",
        "    * Update equation is this. It says that there is a cost function(takes weight and bias). Take derivative of cost function according to weight and bias. Then multiply it with  α learning rate. Then update weight. (In order to explain I ignore bias but these all steps will be applied for bias)\n",
        "    <a href=\"http://imgbb.com/\"><img src=\"http://image.ibb.co/hYTTJH/8.jpg\" alt=\"8\" border=\"0\"></a>\n",
        "    * Now, I am sure you are asking what is learning rate that I mentioned never. It is very simple term that determines learning rate. Hovewer there is tradeoff between learning fast and never learning. For example you are at Paris(current cost) and want to go Madrid(minimum cost). If your speed(learning rate) is small, you can go Madrid very slowly and it takes too long time. On ther other hand, if your speed(learning rate) is big, you can go very fast but maybe you make crash and never go to Madrid. Therefore, we need to choose wisely our speed(learning rate).\n",
        "    * Learning rate is also called hyperparameter that need to be chosen and tuned. I will explain it more detailed in artificial neural network with other hyperparameters. For now just say learning rate is 1 for our previous example.\n",
        "  \n",
        "* I think now you understand the logic behind forward propagation(from weights and bias to cost) and backward propagation(from cost to weights and bias to update them). Also you learn gradient descent. Before implementing the code you need to learn one more thing that is how we take derivative of cost function according to weights and bias. It is not related with python or coding. It is pure mathematic. There are two option first one is to google how to take derivative of log loss function and second one is even to google what is derivative of log loss function :) I choose second one because I cannot explain math without talking :)\n",
        "$$ \\frac{\\partial J}{\\partial w} = \\frac{1}{m}x(  y_head - y)^T$$\n",
        "$$ \\frac{\\partial J}{\\partial b} = \\frac{1}{m} \\sum_{i=1}^m (y_head-y)$$"
      ],
      "metadata": {
        "id": "2V9UQeWkBUNh"
      }
    },
    {
      "cell_type": "code",
      "source": [
        "def forward_backward_propagation(w,b,x_train,y_train):\n",
        "  z=np.dot(w.T,x_train)+b\n",
        "  y_head=sigmoid(z)\n",
        "  loss=-y_train*np.log(y_head)-(1-y_train)*np.log(1-y_head)\n",
        "  cost=(np.sum(loss))/x_train.shape[1]\n",
        "\n",
        "  #backward propagation\n",
        "  derivate_weight=(np.dot(x_train,((y_head-y_train).T)))/x_train.shape[1]\n",
        "  derivate_bias=np.sum(y_head-y_train)/x_train.shape[1]\n",
        "\n",
        "  gradient={\"derivate_weight\":derivate_weight,\"derivative_bias\":derivate_bias}\n",
        "  return cost,gradient\n"
      ],
      "metadata": {
        "id": "djbteI4ZBSUg"
      },
      "execution_count": null,
      "outputs": []
    },
    {
      "cell_type": "code",
      "source": [],
      "metadata": {
        "id": "1CgkXMuNBSW6"
      },
      "execution_count": null,
      "outputs": []
    },
    {
      "cell_type": "code",
      "source": [],
      "metadata": {
        "id": "zpgkFJa-BSZT"
      },
      "execution_count": null,
      "outputs": []
    },
    {
      "cell_type": "code",
      "source": [],
      "metadata": {
        "id": "ZkY8ZPvBBScL"
      },
      "execution_count": null,
      "outputs": []
    },
    {
      "cell_type": "code",
      "source": [],
      "metadata": {
        "id": "vkPOdC7RBSeg"
      },
      "execution_count": null,
      "outputs": []
    },
    {
      "cell_type": "markdown",
      "source": [
        "* Up to this point we learn\n",
        "    * Initializing parameters (implemented)\n",
        "    * Finding cost with forward propagation and cost function (implemented)\n",
        "    * Updating(learning) parameters (weight and bias). Now lets implement it."
      ],
      "metadata": {
        "id": "NzuPeZ1OBXjE"
      }
    },
    {
      "cell_type": "code",
      "source": [],
      "metadata": {
        "id": "WTGrLu3RBZiB"
      },
      "execution_count": null,
      "outputs": []
    },
    {
      "cell_type": "markdown",
      "source": [
        "* Woow, I get tired :) Up to this point we learn our parameters. It means we fit the data.\n",
        "* In order to predict we have parameters. Therefore, lets predict.\n",
        "* In prediction step we have x_test as a input and while using it, we make forward prediction."
      ],
      "metadata": {
        "id": "bmxaw0uFBazq"
      }
    },
    {
      "cell_type": "code",
      "source": [
        "# Updating(learning) parameters\n",
        "def update(w, b, x_train, y_train, learning_rate,number_of_iterarion):\n",
        "  cost_list=[]\n",
        "  cost_list2=[]\n",
        "  index=[]\n",
        "\n",
        "  for i in range(number_of_iterarion):\n",
        "    cost,gradient=forward_backward_propagation(w,b,x_train,y_train)\n",
        "    cost_list.append(cost)\n",
        "\n",
        "    # update weight and bias\n",
        "    w=w-learning_rate*gradient['derivate_weight']\n",
        "    b=b-learning_rate*gradient['derivative_bias']\n",
        "    if(i%10==0):\n",
        "      cost_list2.append(cost)\n",
        "      index.append(i)\n",
        "      print(\"Cost after iteration %i :%f\"%(i,cost))\n",
        "\n",
        "  plt.plot(index,cost_list2)\n",
        "  plt.xticks(index,rotation=\"vertical\")\n",
        "  plt.xlabel(\"Number of Iteration\")\n",
        "  plt.ylabel(\"Cost\")\n",
        "  plt.show()\n",
        "  parameters={\"weight\":w,\"bias\":b}\n",
        "  return parameters,gradient,cost_list\n",
        "\n",
        "\n"
      ],
      "metadata": {
        "id": "G-JPk6ykBZkb"
      },
      "execution_count": null,
      "outputs": []
    },
    {
      "cell_type": "code",
      "source": [],
      "metadata": {
        "id": "B4RN9pwKBZm5"
      },
      "execution_count": null,
      "outputs": []
    },
    {
      "cell_type": "code",
      "source": [],
      "metadata": {
        "id": "qWtPO3ldBZu8"
      },
      "execution_count": null,
      "outputs": []
    },
    {
      "cell_type": "markdown",
      "source": [
        "* We make prediction.\n",
        "* Now lets put them all together."
      ],
      "metadata": {
        "id": "So_zV0J-Bc7A"
      }
    },
    {
      "cell_type": "code",
      "source": [
        "def predict(w,b,x_test):\n",
        "  z=np.dot(w.T,x_test)+b\n",
        "  y_pred=sigmoid(z)\n",
        "  y_prediction=np.zeros((1,x_test.shape[1]))\n",
        "\n",
        "  for i in range(y_pred.shape[1]):\n",
        "    if y_pred[0,i]>0.5:\n",
        "      y_prediction[0,i]=1\n",
        "    else:\n",
        "      y_prediction[0,i]=0\n",
        "  return y_prediction\n",
        "\n"
      ],
      "metadata": {
        "id": "P-5fxZ9kBZxl"
      },
      "execution_count": null,
      "outputs": []
    },
    {
      "cell_type": "code",
      "source": [],
      "metadata": {
        "id": "MNSg9mrOBZ0S"
      },
      "execution_count": null,
      "outputs": []
    },
    {
      "cell_type": "code",
      "source": [],
      "metadata": {
        "id": "xHPFLGRyBZ3B"
      },
      "execution_count": null,
      "outputs": []
    },
    {
      "cell_type": "code",
      "source": [],
      "metadata": {
        "id": "elSB2ih8BZ4_"
      },
      "execution_count": null,
      "outputs": []
    },
    {
      "cell_type": "markdown",
      "source": [
        "* We learn logic behind simple neural network(logistic regression) and how to implement it.\n",
        "* Now that we have learned logic, we can use sklearn library which is easier than implementing all steps with hand for logistic regression.\n",
        "\n",
        "\n"
      ],
      "metadata": {
        "id": "n3zmsN_nBfTj"
      }
    },
    {
      "cell_type": "code",
      "source": [
        "def logistic_regression(x_train, y_train, x_test, y_test, learning_rate ,  num_iterations):\n",
        "\n",
        "   #initiliaze\n",
        "   dimension=x_train.shape[0] #4096\n",
        "   w,b=intialize_weight_and_bias(dimension)\n",
        "   parameters,graidents,cost_list=update(w,b,x_train,y_train,learning_rate,num_iterations)\n",
        "\n",
        "   y_prediction_test=predict(parameters[\"weight\"],parameters[\"bias\"],x_test)\n",
        "   y_prediction_train=predict(parameters[\"weight\"],parameters[\"bias\"],x_train)\n",
        "\n",
        "\n",
        "   #accuaracy\n",
        "\n",
        "   print(\"train accuracy {} %\".format(100-(np.mean(np.abs(y_prediction_train-y_train)))*100))\n",
        "   print(\"test accuracy {}%\".format(100-(np.mean(np.abs(y_prediction_test-y_test)))*100))\n",
        "\n",
        "\n",
        "\n"
      ],
      "metadata": {
        "id": "J4omUA9CNaGc"
      },
      "execution_count": null,
      "outputs": []
    },
    {
      "cell_type": "code",
      "source": [
        "logistic_regression(x_train,y_train,x_test,y_test,learning_rate=0.01,num_iterations=160)"
      ],
      "metadata": {
        "colab": {
          "base_uri": "https://localhost:8080/",
          "height": 774
        },
        "id": "rR2X8V9nNaM8",
        "outputId": "dd62c40f-1ebd-4164-9a2f-f6d5a7934f36"
      },
      "execution_count": null,
      "outputs": [
        {
          "output_type": "stream",
          "name": "stdout",
          "text": [
            "Cost after iteration 0 :14.014222\n",
            "Cost after iteration 10 :2.544689\n",
            "Cost after iteration 20 :2.577950\n",
            "Cost after iteration 30 :2.397999\n",
            "Cost after iteration 40 :2.185019\n",
            "Cost after iteration 50 :1.968348\n",
            "Cost after iteration 60 :1.754195\n",
            "Cost after iteration 70 :1.535079\n",
            "Cost after iteration 80 :1.297567\n",
            "Cost after iteration 90 :1.031919\n",
            "Cost after iteration 100 :0.737019\n",
            "Cost after iteration 110 :0.441355\n",
            "Cost after iteration 120 :0.252278\n",
            "Cost after iteration 130 :0.205168\n",
            "Cost after iteration 140 :0.196168\n",
            "Cost after iteration 150 :0.190936\n"
          ]
        },
        {
          "output_type": "display_data",
          "data": {
            "text/plain": [
              "<Figure size 640x480 with 1 Axes>"
            ],
            "image/png": "[encoded data removed]"
          },
          "metadata": {}
        },
        {
          "output_type": "stream",
          "name": "stdout",
          "text": [
            "train accuracy 93.10344827586206 %\n",
            "test accuracy 93.54838709677419%\n"
          ]
        }
      ]
    },
    {
      "cell_type": "code",
      "source": [],
      "metadata": {
        "id": "hfBmcmnJNaP3"
      },
      "execution_count": null,
      "outputs": []
    },
    {
      "cell_type": "code",
      "source": [],
      "metadata": {
        "id": "7ztACNQENaSj"
      },
      "execution_count": null,
      "outputs": []
    },
    {
      "cell_type": "code",
      "source": [],
      "metadata": {
        "id": "NCHQkMVYNaVB"
      },
      "execution_count": null,
      "outputs": []
    },
    {
      "cell_type": "markdown",
      "source": [
        "accuracy = 100 - np.mean(np.abs(y_prediction - y_actual)) * 100\n",
        "\n",
        "\n",
        "y_prediction = [0, 1, 1, 0, 1]\n",
        "\n",
        "y_actual     = [0, 1, 0, 0, 1]\n",
        "\n",
        "np.abs([0-0, 1-1, 1-0, 0-0, 1-1]) = [0, 0, 1, 0, 0]\n",
        "\n",
        "np.mean([0, 0, 1, 0, 0]) = 1/5 = 0.2 (20% error)\n"
      ],
      "metadata": {
        "id": "8WeLe5J1Pemv"
      }
    },
    {
      "cell_type": "code",
      "source": [],
      "metadata": {
        "id": "kPQzmM6KNabW"
      },
      "execution_count": null,
      "outputs": []
    },
    {
      "cell_type": "markdown",
      "source": [],
      "metadata": {
        "id": "VXU9MUmFBaH2"
      }
    },
    {
      "cell_type": "markdown",
      "source": [],
      "metadata": {
        "id": "kd5_x76SBS1P"
      }
    }
  ]
}