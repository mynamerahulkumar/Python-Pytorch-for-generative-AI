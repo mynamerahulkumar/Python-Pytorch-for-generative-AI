{
  "nbformat": 4,
  "nbformat_minor": 0,
  "metadata": {
    "colab": {
      "provenance": []
    },
    "kernelspec": {
      "name": "python3",
      "display_name": "Python 3"
    },
    "language_info": {
      "name": "python"
    }
  },
  "cells": [
    {
      "cell_type": "markdown",
      "source": [
        "\"**Understanding requires_grad in PyTorch for Automatic Differentiation**\"\n",
        "\n",
        "\n",
        "The argument requires_grad in PyTorch is used to enable automatic differentiation for tensors.\n",
        "\n",
        "Purpose of requires_grad\n",
        "When requires_grad=True, PyTorch tracks all operations performed on the tensor, allowing gradients to be computed automatically during backpropagation. This is essential for training neural networks using optimization techniques like gradient descent."
      ],
      "metadata": {
        "id": "X4MYOcGOgWJY"
      }
    },
    {
      "cell_type": "markdown",
      "source": [
        "x = torch.tensor([2.0, 3.0], requires_grad=True): Enables gradient tracking.\n",
        "\n",
        "y = x**2 + 3*x: Some computation.\n",
        "\n",
        "y.sum().backward(): Computes gradients (dy/dx).\n",
        "\n",
        "x.grad: Stores the gradients.\n",
        "\n"
      ],
      "metadata": {
        "id": "_vhfjZSVgqhm"
      }
    },
    {
      "cell_type": "code",
      "source": [
        "import torch\n",
        "\n",
        "x=torch.tensor([2.0,3.0,5.0],requires_grad=True)\n",
        "\n",
        "y=x**2+3*x\n",
        "\n",
        "y.sum().backward() # dy/dx\n",
        "\n",
        "print(x.grad)"
      ],
      "metadata": {
        "colab": {
          "base_uri": "https://localhost:8080/"
        },
        "id": "2UOovC8kgjUR",
        "outputId": "5da6f2bb-5e18-4771-8796-4700923fd7e3"
      },
      "execution_count": null,
      "outputs": [
        {
          "output_type": "stream",
          "name": "stdout",
          "text": [
            "tensor([ 7.,  9., 13.])\n"
          ]
        }
      ]
    },
    {
      "cell_type": "code",
      "source": [],
      "metadata": {
        "id": "ptZmZT6HgjaX"
      },
      "execution_count": null,
      "outputs": []
    },
    {
      "cell_type": "code",
      "source": [],
      "metadata": {
        "id": "jN7G8t1KgjdW"
      },
      "execution_count": null,
      "outputs": []
    },
    {
      "cell_type": "code",
      "source": [],
      "metadata": {
        "id": "Gxv9sR22gjga"
      },
      "execution_count": null,
      "outputs": []
    },
    {
      "cell_type": "code",
      "source": [],
      "metadata": {
        "id": "hcwgEIxdgjjQ"
      },
      "execution_count": null,
      "outputs": []
    },
    {
      "cell_type": "code",
      "source": [],
      "metadata": {
        "id": "HrHzW7Z9gjmF"
      },
      "execution_count": null,
      "outputs": []
    },
    {
      "cell_type": "code",
      "source": [],
      "metadata": {
        "id": "aPszVhFlgjpE"
      },
      "execution_count": null,
      "outputs": []
    },
    {
      "cell_type": "code",
      "source": [],
      "metadata": {
        "id": "A70Z3lB9gjr_"
      },
      "execution_count": null,
      "outputs": []
    }
  ]
}