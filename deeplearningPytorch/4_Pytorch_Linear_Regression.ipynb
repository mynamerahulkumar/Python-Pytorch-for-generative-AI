{
  "nbformat": 4,
  "nbformat_minor": 0,
  "metadata": {
    "colab": {
      "provenance": []
    },
    "kernelspec": {
      "name": "python3",
      "display_name": "Python 3"
    },
    "language_info": {
      "name": "python"
    }
  },
  "cells": [
    {
      "cell_type": "code",
      "execution_count": null,
      "metadata": {
        "id": "kPp9dK9bier_"
      },
      "outputs": [],
      "source": []
    },
    {
      "cell_type": "markdown",
      "source": [
        "Mathematical Representation\n",
        "A simple linear regression model follows the equation:\n",
        "\n",
        "\n",
        "\n",
        "y=wx+b\n",
        "Where:\n",
        "\n",
        "𝑥\n",
        "x = input features (independent variable)\n",
        "\n",
        "𝑤\n",
        "w = weight (slope)\n",
        "\n",
        "𝑏\n",
        "b = bias (intercept)\n",
        "\n",
        "𝑦\n",
        "y = predicted output (dependent variable)\n",
        "\n",
        "Our goal is to find the optimal values of\n",
        "𝑤\n",
        "w and\n",
        "𝑏\n",
        "b to minimize the Mean Squared Error (MSE) loss:\n",
        "\n",
        "Loss\n",
        "=\n",
        "1\n",
        "𝑁\n",
        "∑\n",
        "(\n",
        "𝑦\n",
        "true\n",
        "−\n",
        "𝑦\n",
        "predicted\n",
        ")\n",
        "2\n",
        "Loss=\n",
        "N\n",
        "1\n",
        "​\n",
        " ∑(y\n",
        "true\n",
        "​\n",
        " −y\n",
        "predicted\n",
        "​\n",
        " )\n",
        "2\n",
        "\n",
        "PyTorch’s autograd system will automatically compute gradients for optimization.\n",
        "\n"
      ],
      "metadata": {
        "id": "8D__af7qp9Pi"
      }
    },
    {
      "cell_type": "code",
      "source": [],
      "metadata": {
        "id": "ue4S17e8qDNT"
      },
      "execution_count": null,
      "outputs": []
    },
    {
      "cell_type": "markdown",
      "source": [
        "Step-by-Step Implementation in PyTorch\n"
      ],
      "metadata": {
        "id": "xb80MfisqGEK"
      }
    },
    {
      "cell_type": "markdown",
      "source": [
        "Step 1: Import Required Libraries\n",
        "\n"
      ],
      "metadata": {
        "id": "Fm3xBI7vqIgg"
      }
    },
    {
      "cell_type": "code",
      "source": [
        "import torch\n",
        "import torch.nn as nn\n",
        "import torch.optim as optim\n",
        "import matplotlib.pyplot as plt"
      ],
      "metadata": {
        "id": "dThtSmHgqUhG"
      },
      "execution_count": null,
      "outputs": []
    },
    {
      "cell_type": "code",
      "source": [],
      "metadata": {
        "id": "rNWS1MNsqUpD"
      },
      "execution_count": null,
      "outputs": []
    },
    {
      "cell_type": "markdown",
      "source": [
        "torch.linspace(0, 10, 100):\n",
        "\n",
        "torch.linspace(start, end, steps) generates a tensor with 100 values evenly\n",
        "\n",
        "spaced between 0 and 10.\n",
        "\n",
        "The result is a 1D tensor with shape (100,), meaning it is a vector with 100 elements.\n",
        "\n"
      ],
      "metadata": {
        "id": "YoOzEMBty8EN"
      }
    },
    {
      "cell_type": "markdown",
      "source": [
        "Generate Sample Dataset\n",
        "\n",
        "Y=2*x+3"
      ],
      "metadata": {
        "id": "22TKZpbUtWib"
      }
    },
    {
      "cell_type": "code",
      "source": [
        "torch.manual_seed(42)\n",
        "# Car prices (in $1000s)\n",
        "X=torch.linspace(0,10,100).reshape(-1,1)\n",
        "y=2*X+3 +torch.randn(X.size())*2\n"
      ],
      "metadata": {
        "id": "m_vUT5p7qUsM"
      },
      "execution_count": null,
      "outputs": []
    },
    {
      "cell_type": "code",
      "source": [],
      "metadata": {
        "id": "9FVdE53nqUvU"
      },
      "execution_count": null,
      "outputs": []
    },
    {
      "cell_type": "code",
      "source": [],
      "metadata": {
        "id": "-3vlEmQNqUyL"
      },
      "execution_count": null,
      "outputs": []
    },
    {
      "cell_type": "markdown",
      "source": [
        "Step 3: Define Linear Regression Model\n",
        "\n"
      ],
      "metadata": {
        "id": "DLft1f6wt3SG"
      }
    },
    {
      "cell_type": "code",
      "source": [
        "class  CarSalesModel(nn.Module):\n",
        "   def __init__(self) -> None:\n",
        "      super(CarSalesModel,self).__init__()\n",
        "      self.linear=nn.Linear(1,1)\n",
        "   def forward(self,x):\n",
        "       return self.linear(x)\n"
      ],
      "metadata": {
        "id": "vrXcjYKcqU0u"
      },
      "execution_count": null,
      "outputs": []
    },
    {
      "cell_type": "code",
      "source": [],
      "metadata": {
        "id": "YgtxATVlqU3Y"
      },
      "execution_count": null,
      "outputs": []
    },
    {
      "cell_type": "code",
      "source": [],
      "metadata": {
        "id": "oWZFjU1DqU6M"
      },
      "execution_count": null,
      "outputs": []
    },
    {
      "cell_type": "code",
      "source": [],
      "metadata": {
        "id": "NbkzZAXaqU8t"
      },
      "execution_count": null,
      "outputs": []
    },
    {
      "cell_type": "markdown",
      "source": [
        "Step 4: Initialize Model, Loss Function, and Optimizer\n",
        "\n"
      ],
      "metadata": {
        "id": "oRNuXs5Qt5of"
      }
    },
    {
      "cell_type": "code",
      "source": [
        "model=CarSalesModel()\n",
        "\n",
        "criterion=nn.MSELoss()\n",
        "\n",
        "\n",
        "optimizer=optim.SGD(model.parameters(),lr=0.0005)"
      ],
      "metadata": {
        "id": "eQRgqbzsqU_d"
      },
      "execution_count": null,
      "outputs": []
    },
    {
      "cell_type": "code",
      "source": [],
      "metadata": {
        "id": "AghQ9Th4qVCM"
      },
      "execution_count": null,
      "outputs": []
    },
    {
      "cell_type": "code",
      "source": [],
      "metadata": {
        "id": "qDERV9kkt8ST"
      },
      "execution_count": null,
      "outputs": []
    },
    {
      "cell_type": "markdown",
      "source": [
        "Step 5: Train the Model\n",
        "\n"
      ],
      "metadata": {
        "id": "Q5QdxuXgt9Fr"
      }
    },
    {
      "cell_type": "code",
      "source": [
        "# Training loop\n",
        "epochs = 500  # More epochs for better convergence\n",
        "for epoch in range(epochs):\n",
        "    # Forward pass: Predict sales\n",
        "    y_pred = model(X)\n",
        "\n",
        "    # Compute loss\n",
        "    loss = criterion(y_pred, y)\n",
        "\n",
        "    # Backward pass: Compute gradients\n",
        "    optimizer.zero_grad()  # Clear previous gradients\n",
        "    loss.backward()  # Compute new gradients\n",
        "    optimizer.step()  # Update weights\n",
        "\n",
        "    # Print loss every 50 epochs\n",
        "    if (epoch + 1) % 50 == 0:\n",
        "        print(f'Epoch [{epoch+1}/{epochs}], Loss: {loss.item():.4f}')\n"
      ],
      "metadata": {
        "colab": {
          "base_uri": "https://localhost:8080/"
        },
        "id": "8SjY84Ent8WG",
        "outputId": "9064ef44-b6c9-407d-c6ed-347911d0e364"
      },
      "execution_count": null,
      "outputs": [
        {
          "output_type": "stream",
          "name": "stdout",
          "text": [
            "Epoch [50/500], Loss: 13.8045\n",
            "Epoch [100/500], Loss: 7.3595\n",
            "Epoch [150/500], Loss: 7.0835\n",
            "Epoch [200/500], Loss: 6.9985\n",
            "Epoch [250/500], Loss: 6.9211\n",
            "Epoch [300/500], Loss: 6.8459\n",
            "Epoch [350/500], Loss: 6.7725\n",
            "Epoch [400/500], Loss: 6.7008\n",
            "Epoch [450/500], Loss: 6.6310\n",
            "Epoch [500/500], Loss: 6.5628\n"
          ]
        }
      ]
    },
    {
      "cell_type": "code",
      "source": [],
      "metadata": {
        "id": "qeqsFfyht8YV"
      },
      "execution_count": null,
      "outputs": []
    },
    {
      "cell_type": "code",
      "source": [],
      "metadata": {
        "id": "F_UJHRdlt8a8"
      },
      "execution_count": null,
      "outputs": []
    },
    {
      "cell_type": "code",
      "source": [],
      "metadata": {
        "id": "kXXOZdVnt8dY"
      },
      "execution_count": null,
      "outputs": []
    },
    {
      "cell_type": "markdown",
      "source": [
        "Step 6: Plot the Results\n"
      ],
      "metadata": {
        "id": "RdD2rSoNuAcO"
      }
    },
    {
      "cell_type": "code",
      "source": [
        "with torch.no_grad():\n",
        "  y_pred=model(X)\n",
        "plt.scatter(X.numpy(),y.numpy(),label=\"Actual Data\",color='blue')\n",
        "plt.plot(X.numpy(),y_pred.numpy(),color='red',label='Fitted line')\n",
        "plt.xlabel(\"X\")\n",
        "plt.ylabel(\"Y\")\n",
        "plt.legend()\n",
        "plt.title(\"Linear Regression using Pytorch\")\n",
        "plt.show()"
      ],
      "metadata": {
        "colab": {
          "base_uri": "https://localhost:8080/",
          "height": 472
        },
        "id": "oBtDvbMZt8ft",
        "outputId": "bf646bd3-e466-4f49-a78c-705222760554"
      },
      "execution_count": null,
      "outputs": [
        {
          "output_type": "display_data",
          "data": {
            "text/plain": [
              "<Figure size 640x480 with 1 Axes>"
            ],
            "image/png": "[encoded data removed]"
          },
          "metadata": {}
        }
      ]
    },
    {
      "cell_type": "code",
      "source": [],
      "metadata": {
        "id": "PeY41pyWt8iP"
      },
      "execution_count": null,
      "outputs": []
    },
    {
      "cell_type": "code",
      "source": [],
      "metadata": {
        "id": "2nzBb6QMt8ky"
      },
      "execution_count": null,
      "outputs": []
    },
    {
      "cell_type": "code",
      "source": [],
      "metadata": {
        "id": "8scaes_9t8nL"
      },
      "execution_count": null,
      "outputs": []
    },
    {
      "cell_type": "code",
      "source": [],
      "metadata": {
        "id": "eBJ1-eBGt8ph"
      },
      "execution_count": null,
      "outputs": []
    },
    {
      "cell_type": "code",
      "source": [],
      "metadata": {
        "id": "nojxWKJnt8sH"
      },
      "execution_count": null,
      "outputs": []
    },
    {
      "cell_type": "code",
      "source": [],
      "metadata": {
        "id": "pv03CnGkqVFI"
      },
      "execution_count": null,
      "outputs": []
    },
    {
      "cell_type": "markdown",
      "source": [
        "Understanding the Results\n",
        "\n",
        "The model learns the inverse relationship between price and sales.\n",
        "\n",
        "The regression line should show fewer sales at higher prices.\n",
        "\n",
        "The loss should decrease over epochs, showing the model is learning."
      ],
      "metadata": {
        "id": "G8aj9GIXuENn"
      }
    }
  ]
}