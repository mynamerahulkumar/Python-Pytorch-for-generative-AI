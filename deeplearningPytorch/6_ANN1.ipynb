{
  "cells": [
    {
      "cell_type": "code",
      "execution_count": null,
      "metadata": {
        "_cell_guid": "6fe1e8d5-b36d-4e39-9a9b-34618b5e275e",
        "_uuid": "79f18357b846d2cd91e0f7b2389e1dba8097cbdb",
        "id": "JCX6tuhPIq2O"
      },
      "outputs": [],
      "source": [
        "# This Python 3 environment comes with many helpful analytics libraries installed\n",
        "# It is defined by the kaggle/python docker image: https://github.com/kaggle/docker-python\n",
        "# For example, here's several helpful packages to load in\n",
        "\n",
        "import numpy as np # linear algebra\n",
        "import pandas as pd # data processing, CSV file I/O (e.g. pd.read_csv)\n",
        "import matplotlib.pyplot as plt\n",
        "# Input data files are available in the \"../input/\" directory.\n",
        "# For example, running this (by clicking run or pressing Shift+Enter) will list the files in the input directory\n",
        "# import warnings\n",
        "import warnings\n",
        "# filter warnings\n",
        "warnings.filterwarnings('ignore')\n",
        "from subprocess import check_output\n",
        "# print(check_output([\"ls\", \"../input\"]).decode(\"utf8\"))\n",
        "# Any results you write to the current directory are saved as output."
      ]
    },
    {
      "cell_type": "markdown",
      "metadata": {
        "_cell_guid": "62bb7abd-122c-4f87-97ad-eb203e9dea1f",
        "_uuid": "3e3e94ca5c9349ac36416482d30af378966c7a8a",
        "id": "86yNvP7GIq2P"
      },
      "source": [
        "<a id=\"Overview the Data Set\"></a> <br>\n",
        "# Overview the Data Set\n",
        "* We will use \"sign language digits data set\" for this tutorial.\n",
        "* In this data there are 2062 sign language digits images.\n",
        "* As you know digits are from 0 to 9. Therefore there are 10 unique sign.\n",
        "* At the beginning of tutorial we will use only sign 0 and 1 for simplicity.\n",
        "* In data, sign zero is between indexes 204 and 408. Number of zero sign is 205.\n",
        "* Also sign one is between indexes 822 and 1027. Number of one sign is 206. Therefore, we will use 205 samples from each classes(labels).\n",
        "* Note: Actually 205 sample is very very very little for deep learning. But this is tutorial so it does not matter so much.\n",
        "* Lets prepare our X and Y arrays. X is image array (zero and one signs) and Y is label array (0 and 1)."
      ]
    },
    {
      "cell_type": "code",
      "source": [
        "from google.colab import drive\n",
        "drive.mount('/content/drive')"
      ],
      "metadata": {
        "colab": {
          "base_uri": "https://localhost:8080/"
        },
        "id": "h42-J_Grfj4e",
        "outputId": "478fe5fc-576f-4e1a-c2a0-db0e69f12d05"
      },
      "execution_count": null,
      "outputs": [
        {
          "output_type": "stream",
          "name": "stdout",
          "text": [
            "Mounted at /content/drive\n"
          ]
        }
      ]
    },
    {
      "cell_type": "code",
      "execution_count": null,
      "metadata": {
        "_cell_guid": "4768ce70-3e7f-4ac9-8764-642e88006b77",
        "_uuid": "d6b38399b27c2d723750c0b4f8787a7d6d0025ea",
        "id": "aeskFZarIq2P",
        "outputId": "bc66c1c5-4c60-49ce-a29f-57cca601a0a3",
        "colab": {
          "base_uri": "https://localhost:8080/",
          "height": 279
        }
      },
      "outputs": [
        {
          "output_type": "execute_result",
          "data": {
            "text/plain": [
              "(np.float64(-0.5), np.float64(63.5), np.float64(63.5), np.float64(-0.5))"
            ]
          },
          "metadata": {},
          "execution_count": 6
        },
        {
          "output_type": "display_data",
          "data": {
            "text/plain": [
              "<Figure size 640x480 with 2 Axes>"
            ],
            "image/png": "[encoded data removed]"
          },
          "metadata": {}
        }
      ],
      "source": [
        "# load data set\n",
        "x_l = np.load('/content/drive/MyDrive/A_doc_imp/A_Udeyme/A_Python_and_Pytorch_for_generative_AI/Pytorch/data/X.npy')\n",
        "Y_l = np.load('/content/drive/MyDrive/A_doc_imp/A_Udeyme/A_Python_and_Pytorch_for_generative_AI/Pytorch/data/Y.npy')\n",
        "img_size = 64\n",
        "plt.subplot(1, 2, 1)\n",
        "plt.imshow(x_l[260].reshape(img_size, img_size))\n",
        "plt.axis('off')\n",
        "plt.subplot(1, 2, 2)\n",
        "plt.imshow(x_l[900].reshape(img_size, img_size))\n",
        "plt.axis('off')"
      ]
    },
    {
      "cell_type": "markdown",
      "metadata": {
        "_cell_guid": "1c9cf8f2-f318-4f69-b92e-9c1bfe78c2c7",
        "_uuid": "c12d1854c6f5fb43c8f081083a441585ed48dc93",
        "id": "foNBAP4EIq2P"
      },
      "source": [
        "* In order to create image array, I concatenate zero sign and one sign arrays\n",
        "* Then I create label array 0 for zero sign images and 1 for one sign images."
      ]
    },
    {
      "cell_type": "code",
      "execution_count": null,
      "metadata": {
        "_cell_guid": "88a9b18b-12c7-46d6-8370-e2f02b55dd7a",
        "_uuid": "ad417f6189b0d9476388d92b6be09c887f7f1a40",
        "id": "oZm6Fx43Iq2P",
        "outputId": "d9e3145a-f98e-435b-fa55-6a82bf6b6871",
        "colab": {
          "base_uri": "https://localhost:8080/"
        }
      },
      "outputs": [
        {
          "output_type": "stream",
          "name": "stdout",
          "text": [
            "X shape:  (410, 64, 64)\n",
            "Y shape:  (410, 1)\n"
          ]
        }
      ],
      "source": [
        "# Join a sequence of arrays along an row axis.\n",
        "X = np.concatenate((x_l[204:409], x_l[822:1027] ), axis=0) # from 0 to 204 is zero sign and from 205 to 410 is one sign\n",
        "z = np.zeros(205)\n",
        "o = np.ones(205)\n",
        "Y = np.concatenate((z, o), axis=0).reshape(X.shape[0],1)\n",
        "print(\"X shape: \" , X.shape)\n",
        "print(\"Y shape: \" , Y.shape)"
      ]
    },
    {
      "cell_type": "markdown",
      "metadata": {
        "_cell_guid": "d6024477-cf34-40f9-b079-8388b5146e1b",
        "_uuid": "a999c02e74af603d65a4442842d739aa351f593c",
        "id": "RfXg0vivIq2P"
      },
      "source": [
        "* The shape of the X is (410, 64, 64)\n",
        "    * 410 means that we have 410 images (zero and one signs)\n",
        "    * 64 means that our image size is 64x64 (64x64 pixels)\n",
        "* The shape of the Y is (410,1)\n",
        "    *  410 means that we have 410 labels (0 and 1)\n",
        "* Lets split X and Y into train and test sets.\n",
        "    * test_size = percentage of test size. test = 15% and train = 75%\n",
        "    * random_state = use same seed while randomizing. It means that if we call train_test_split repeatedly, it always creates same train and test distribution because we have same random_state."
      ]
    },
    {
      "cell_type": "code",
      "execution_count": null,
      "metadata": {
        "_cell_guid": "00db1f03-75d3-48dc-a6fb-824a58790d42",
        "_uuid": "82869efdb6890ede1899c1bc8c90fa8b1caceec3",
        "id": "SxJSdkmXIq2P"
      },
      "outputs": [],
      "source": [
        "# Then lets create x_train, y_train, x_test, y_test arrays\n",
        "from sklearn.model_selection import train_test_split\n",
        "X_train, X_test, Y_train, Y_test = train_test_split(X, Y, test_size=0.15, random_state=42)\n",
        "number_of_train = X_train.shape[0]\n",
        "number_of_test = X_test.shape[0]"
      ]
    },
    {
      "cell_type": "markdown",
      "metadata": {
        "_cell_guid": "4bb55e07-cabb-46ce-b21a-fe4a7b34995f",
        "_uuid": "e294dc952e7ba34569162a8965680ead8edd2834",
        "id": "E2sOwdF8Iq2Q"
      },
      "source": [
        "* Now we have 3 dimensional input array (X) so we need to make it flatten (2D) in order to use as input for our first deep learning model.\n",
        "* Our label array (Y) is already flatten(2D) so we leave it like that.\n",
        "* Lets flatten X array(images array).\n"
      ]
    },
    {
      "cell_type": "code",
      "execution_count": null,
      "metadata": {
        "_cell_guid": "f5937123-1e16-4036-844b-f498ed42e504",
        "_uuid": "f8b7203144bc85873d960f765e2bb3e711b57f30",
        "id": "INzlklMpIq2Q",
        "outputId": "b5a793e1-5ab1-4492-abc8-7baa7fb3946b",
        "colab": {
          "base_uri": "https://localhost:8080/"
        }
      },
      "outputs": [
        {
          "output_type": "stream",
          "name": "stdout",
          "text": [
            "X train flatten (348, 4096)\n",
            "X test flatten (62, 4096)\n"
          ]
        }
      ],
      "source": [
        "X_train_flatten = X_train.reshape(number_of_train,X_train.shape[1]*X_train.shape[2])\n",
        "X_test_flatten = X_test .reshape(number_of_test,X_test.shape[1]*X_test.shape[2])\n",
        "print(\"X train flatten\",X_train_flatten.shape)\n",
        "print(\"X test flatten\",X_test_flatten.shape)"
      ]
    },
    {
      "cell_type": "markdown",
      "metadata": {
        "_cell_guid": "dab40a5b-e319-4807-a608-12065d860847",
        "_uuid": "cb26fc242ffcae8bf8f164d32dc9c5436e8312fc",
        "id": "a2C4R02WIq2Q"
      },
      "source": [
        "* As you can see, we have 348 images and each image has 4096 pixels in image train array.\n",
        "* Also, we have 62 images and each image has 4096 pixels in image test array.\n",
        "* Then lets take transpose. You can say that WHYY, actually there is no technical answer. I just write the code(code that you will see oncoming parts) according to it :)"
      ]
    },
    {
      "cell_type": "code",
      "execution_count": null,
      "metadata": {
        "_cell_guid": "ad9bee66-78f1-44ec-a114-465356b9cc7d",
        "_uuid": "88eef1b839ee51234a53da3ccb1e36a2e5e9a0e6",
        "id": "xdLQMZ_OIq2Q",
        "outputId": "cae14a9d-c0e3-4887-a919-bd1a92219c76",
        "colab": {
          "base_uri": "https://localhost:8080/"
        }
      },
      "outputs": [
        {
          "output_type": "stream",
          "name": "stdout",
          "text": [
            "x train:  (4096, 348)\n",
            "x test:  (4096, 62)\n",
            "y train:  (1, 348)\n",
            "y test:  (1, 62)\n"
          ]
        }
      ],
      "source": [
        "x_train = X_train_flatten.T\n",
        "x_test = X_test_flatten.T\n",
        "y_train = Y_train.T\n",
        "y_test = Y_test.T\n",
        "print(\"x train: \",x_train.shape)\n",
        "print(\"x test: \",x_test.shape)\n",
        "print(\"y train: \",y_train.shape)\n",
        "print(\"y test: \",y_test.shape)"
      ]
    },
    {
      "cell_type": "markdown",
      "metadata": {
        "_cell_guid": "0dfdae4c-5c3e-4ebd-8714-2ecf974ef2fa",
        "_uuid": "ed7b18eea8062e401823686bb2f672e1c548fac0",
        "id": "YnWtGuc5Iq2Q"
      },
      "source": [
        "<font color='purple'>\n",
        "What we did up to this point:\n",
        "* Choose our labels (classes) that are sign zero and sign one\n",
        "* Create and flatten train and test sets\n",
        "* Our final inputs(images) and outputs(labels or classes) looks like this:\n",
        "<a href=\"http://ibb.co/bWMK7c\"><img src=\"http://image.ibb.co/fOqCSc/3.png\" alt=\"3\" border=\"0\"></a>"
      ]
    },
    {
      "cell_type": "markdown",
      "metadata": {
        "_cell_guid": "a800aa00-7adf-4d10-83c1-3a5221219329",
        "_uuid": "dd0e970ce5194a34ca55b27b6580ef85714e1b92",
        "id": "1Ehr0fjtIq2R"
      },
      "source": [
        "<a id=\"10\"></a> <br>\n",
        "# Artificial Neural Network (ANN)\n",
        "* It is also called deep neural network or deep learning.\n",
        "* **What is neural network:** It is basically taking logistic regression and repeating it at least 2 times.\n",
        "* In logistic regression, there are input and output layers. However, in neural network, there is at least one hidden layer between input and output layer.\n",
        "* **What is deep, in order to say \"deep\" how many layer do I need to have:** When I ask this question to my teacher, he said that \"\"Deep\" is a relative term; it of course refers to the \"depth\" of a network, meaning how many hidden layers it has. \"How deep is your swimming pool?\" could be 12 feet or it might be two feet; nevertheless, it still has a depth--it has the quality of \"deepness\". 32 years ago, I used two or three hidden layers. That was the limit for the specialized hardware of the day. Just a few years ago, 20 layers was considered pretty deep. In October, Andrew Ng mentioned 152 layers was (one of?) the biggest commercial networks he knew of. Last week, I talked to someone at a big, famous company who said he was using \"thousands\". So I prefer to just stick with \"How deep?\"\"\n",
        "* **Why it is called hidden:** Because hidden layer does not see inputs(training set)\n",
        "* For example you have input, one hidden and output layers. When someone ask you \"hey my friend how many layers do your neural network have?\" The answer is \"I have 2 layer neural network\". Because while computing layer number input layer is ignored.\n",
        "* Lets see 2 layer neural network:\n",
        "<a href=\"http://ibb.co/eF315x\"><img src=\"http://preview.ibb.co/dajVyH/9.jpg\" alt=\"9\" border=\"0\"></a>\n",
        "* Step by step we will learn this image.\n",
        "    * As you can see there is one hidden layer between input and output layers. And this hidden layer has 3 nodes. If yoube curious why I choose number of node 3, the answer is there is no reason, I only choose :). Number of node is hyperparameter like learning rate. Therefore we will see hyperparameters at the end of artificial neural network.\n",
        "    * Input and output layers do not change. They are same like logistic regression.\n",
        "    * In image, there is a tanh function that is unknown for you. It is a activation function like sigmoid function. Tanh activation function is better than sigmoid for hidden units bacause mean of its output is closer to zero so it centers the data better for the next layer. Also tanh activation function increase non linearity that cause our model learning better.\n",
        "    * As you can see with purple color there are two parts. Both parts are like logistic regression. The only difference is activation function, inputs and outputs.\n",
        "        * In logistic regression: input => output\n",
        "        * In 2 layer neural network: input => hidden layer => output. You can think that hidden layer is output of part 1 and input of part 2.\n",
        "* Thats all. We will follow the same path like logistic regression for 2 layer neural network.\n",
        "   \n",
        "    \n",
        "    "
      ]
    },
    {
      "cell_type": "markdown",
      "metadata": {
        "_cell_guid": "35b73665-27cb-48a7-abb1-0e0e6bc10ec0",
        "_uuid": "689a4a049579fff0c718bc30639f18e2dcab8ccc",
        "id": "-5CSxdyQIq2S"
      },
      "source": [
        "<a id=\"11\"></a> <br>\n",
        "## 2-Layer Neural Network\n",
        "* Size of layers and initializing parameters weights and bias\n",
        "* Forward propagation\n",
        "* Loss function and Cost function\n",
        "* Backward propagation\n",
        "* Update Parameters\n",
        "* Prediction with learnt parameters weight and bias\n",
        "* Create Model"
      ]
    },
    {
      "cell_type": "markdown",
      "metadata": {
        "_cell_guid": "bbfe8df0-bf38-4842-aec1-c04417a99420",
        "_uuid": "0a5e286cf360d579eb6e5d5f220dd1a17c458039",
        "id": "RF0bCxzsIq2Z"
      },
      "source": [
        "<a id=\"12\"></a> <br>\n",
        "## Size of layers and initializing parameters weights and bias\n",
        "* For x_train that has 348 sample $x^{(348)}$:\n",
        "$$z^{[1] (348)} =  W^{[1]} x^{(348)} + b^{[1] (348)}$$\n",
        "$$a^{[1] (348)} = \\tanh(z^{[1] (348)})$$\n",
        "$$z^{[2] (348)} = W^{[2]} a^{[1] (348)} + b^{[2] (348)}$$\n",
        "$$\\hat{y}^{(348)} = a^{[2] (348)} = \\sigma(z^{ [2] (348)})$$\n",
        "\n",
        "* At logistic regression, we initialize weights 0.01 and bias 0. At this time, we initialize weights randomly. Because if we initialize parameters zero each neuron in the first hidden layer will perform the same comptation. Therefore, even after multiple iterartion of gradiet descent each neuron in the layer will be computing same things as other neurons. Therefore we initialize randomly. Also initial weights will be small. If they are very large initially, this will cause the inputs of the tanh to be very large, thus causing gradients to be close to zero. The optimization algorithm will be slow.\n",
        "* Bias can be zero initially."
      ]
    },
    {
      "cell_type": "code",
      "execution_count": null,
      "metadata": {
        "_cell_guid": "089fd577-95a0-4218-9b53-72bf1c0ab206",
        "_uuid": "922670a74f6999885759399ebea8b10692796a29",
        "id": "6J599t0NIq2Z"
      },
      "outputs": [],
      "source": [
        "# intialize parameters and layer sizes\n",
        "def initialize_parameters_and_layer_sizes_NN(x_train, y_train):\n",
        "    parameters = {\"weight1\": np.random.randn(3,x_train.shape[0]) * 0.1,\n",
        "                  \"bias1\": np.zeros((3,1)),\n",
        "                  \"weight2\": np.random.randn(y_train.shape[0],3) * 0.1,\n",
        "                  \"bias2\": np.zeros((y_train.shape[0],1))}\n",
        "    return parameters"
      ]
    },
    {
      "cell_type": "markdown",
      "metadata": {
        "_cell_guid": "65832cdf-7ee8-447b-a068-48ac2e46b49f",
        "_uuid": "66147bbafbe25dac498f3963ea8419126f624ce9",
        "id": "VXIP44EoIq2Z"
      },
      "source": [
        "<a id=\"13\"></a> <br>\n",
        "## Forward propagation\n",
        "* Forward propagation is almost same with logistic regression.\n",
        "* The only difference is we use tanh function and we make all process twice.\n",
        "* Also numpy has tanh function. So we do not need to implement it."
      ]
    },
    {
      "cell_type": "code",
      "source": [
        "# calculation of z\n",
        "#z = np.dot(w.T,x_train)+b\n",
        "def sigmoid(z):\n",
        "    y_head = 1/(1+np.exp(-z))\n",
        "    return y_head"
      ],
      "metadata": {
        "id": "rE8DucEafYb3"
      },
      "execution_count": null,
      "outputs": []
    },
    {
      "cell_type": "code",
      "execution_count": null,
      "metadata": {
        "_cell_guid": "d64d6b90-7f14-453f-a401-4119504496e3",
        "_uuid": "41e1e2f1c7afff027ba0a9f9b2fdcbe312e9a194",
        "id": "0VFDkZiaIq2Z"
      },
      "outputs": [],
      "source": [
        "\n",
        "def forward_propagation_NN(x_train, parameters):\n",
        "\n",
        "    Z1 = np.dot(parameters[\"weight1\"],x_train) +parameters[\"bias1\"]\n",
        "    A1 = np.tanh(Z1)\n",
        "    Z2 = np.dot(parameters[\"weight2\"],A1) + parameters[\"bias2\"]\n",
        "    A2 = sigmoid(Z2)\n",
        "\n",
        "    cache = {\"Z1\": Z1,\n",
        "             \"A1\": A1,\n",
        "             \"Z2\": Z2,\n",
        "             \"A2\": A2}\n",
        "\n",
        "    return A2, cache\n"
      ]
    },
    {
      "cell_type": "markdown",
      "metadata": {
        "_cell_guid": "30a0abc9-7ee0-4093-afd5-ae9d5b1fcd5e",
        "_uuid": "ee7a42ee207e222eed5c24b1bfbf2d6ce0cdec37",
        "id": "uONfDZ8UIq2Z"
      },
      "source": [
        "<a id=\"14\"></a> <br>\n",
        "## Loss function and Cost function\n",
        "* Loss and cost functions are same with logistic regression\n",
        "* Cross entropy function\n",
        "<a href=\"https://imgbb.com/\"><img src=\"https://image.ibb.co/nyR9LU/as.jpg\" alt=\"as\" border=\"0\"></a><br />"
      ]
    },
    {
      "cell_type": "code",
      "execution_count": null,
      "metadata": {
        "_cell_guid": "24143d72-bc62-4f2d-b0cf-4f67a4016299",
        "_uuid": "b55887b28cffc8083a76af45d25957d4f3e9f6fa",
        "id": "lSICx2OLIq2Z"
      },
      "outputs": [],
      "source": [
        "# Compute cost\n",
        "def compute_cost_NN(A2, Y, parameters):\n",
        "    logprobs = np.multiply(np.log(A2),Y)\n",
        "    cost = -np.sum(logprobs)/Y.shape[1]\n",
        "    return cost\n"
      ]
    },
    {
      "cell_type": "markdown",
      "metadata": {
        "_cell_guid": "39839772-976a-4e53-a2e0-07aa76c9bd98",
        "_uuid": "43767f9271e2b2b6e0c3560e414f3c0c596ffe2f",
        "id": "NfAd8pRAIq2Z"
      },
      "source": [
        "<a id=\"15\"></a> <br>\n",
        "## Backward propagation\n",
        "* As you know backward propagation means derivative.\n",
        "* If you want to learn (as I said I cannot explain without talking bc it is little confusing), please watch video in youtube.\n",
        "* However the logic is same, lets write code."
      ]
    },
    {
      "cell_type": "code",
      "execution_count": null,
      "metadata": {
        "_cell_guid": "2fcfd3c4-f935-4272-a284-c2dbc2c35afb",
        "_uuid": "6bf7bce2e4413ecdc16ea778008eee4072738aab",
        "id": "U13xKSsQIq2Z"
      },
      "outputs": [],
      "source": [
        "# Backward Propagation\n",
        "def backward_propagation_NN(parameters, cache, X, Y):\n",
        "\n",
        "    dZ2 = cache[\"A2\"]-Y\n",
        "    dW2 = np.dot(dZ2,cache[\"A1\"].T)/X.shape[1]\n",
        "    db2 = np.sum(dZ2,axis =1,keepdims=True)/X.shape[1]\n",
        "    dZ1 = np.dot(parameters[\"weight2\"].T,dZ2)*(1 - np.power(cache[\"A1\"], 2))\n",
        "    dW1 = np.dot(dZ1,X.T)/X.shape[1]\n",
        "    db1 = np.sum(dZ1,axis =1,keepdims=True)/X.shape[1]\n",
        "    grads = {\"dweight1\": dW1,\n",
        "             \"dbias1\": db1,\n",
        "             \"dweight2\": dW2,\n",
        "             \"dbias2\": db2}\n",
        "    return grads"
      ]
    },
    {
      "cell_type": "markdown",
      "metadata": {
        "_cell_guid": "af195fda-5649-4e6d-830e-72123f2726a8",
        "_uuid": "b1996782dc44fda7993407c9b5efee5d4fef46e4",
        "id": "jd4mQAp8Iq2Z"
      },
      "source": [
        "<a id=\"16\"></a> <br>\n",
        "## Update Parameters\n",
        "* Updating parameters also same with logistic regression.\n",
        "* We actually do alot of work with logistic regression"
      ]
    },
    {
      "cell_type": "code",
      "execution_count": null,
      "metadata": {
        "_cell_guid": "d9ae95d4-1d11-4293-822d-e1d5f0c16d1e",
        "_uuid": "facf2b475cb82e14dcc6be56b57fe2c3ad0b1a8f",
        "id": "DN9JmWroIq2Z"
      },
      "outputs": [],
      "source": [
        "# update parameters\n",
        "def update_parameters_NN(parameters, grads, learning_rate = 0.01):\n",
        "    parameters = {\"weight1\": parameters[\"weight1\"]-learning_rate*grads[\"dweight1\"],\n",
        "                  \"bias1\": parameters[\"bias1\"]-learning_rate*grads[\"dbias1\"],\n",
        "                  \"weight2\": parameters[\"weight2\"]-learning_rate*grads[\"dweight2\"],\n",
        "                  \"bias2\": parameters[\"bias2\"]-learning_rate*grads[\"dbias2\"]}\n",
        "\n",
        "    return parameters"
      ]
    },
    {
      "cell_type": "markdown",
      "metadata": {
        "_cell_guid": "ac416480-ec9c-45b4-ac9d-1caeded9ba90",
        "_uuid": "9c471502563017fabb991494359091215e4ad583",
        "id": "QDxIhk3jIq2a"
      },
      "source": [
        "<a id=\"17\"></a> <br>\n",
        "## Prediction with learnt parameters weight and bias\n",
        "* Lets write predict method that is like logistic regression."
      ]
    },
    {
      "cell_type": "code",
      "execution_count": null,
      "metadata": {
        "_cell_guid": "96004eb5-d6ca-41ab-a577-70fb0628a2f4",
        "_uuid": "53c00c4430c6fcc3298dde8de804cab71884caa5",
        "id": "i4JEQYHtIq2a"
      },
      "outputs": [],
      "source": [
        "# prediction\n",
        "def predict_NN(parameters,x_test):\n",
        "    # x_test is a input for forward propagation\n",
        "    A2, cache = forward_propagation_NN(x_test,parameters)\n",
        "    Y_prediction = np.zeros((1,x_test.shape[1]))\n",
        "    # if z is bigger than 0.5, our prediction is sign one (y_head=1),\n",
        "    # if z is smaller than 0.5, our prediction is sign zero (y_head=0),\n",
        "    for i in range(A2.shape[1]):\n",
        "        if A2[0,i]<= 0.5:\n",
        "            Y_prediction[0,i] = 0\n",
        "        else:\n",
        "            Y_prediction[0,i] = 1\n",
        "\n",
        "    return Y_prediction"
      ]
    },
    {
      "cell_type": "markdown",
      "metadata": {
        "_cell_guid": "d0df9e13-300b-4d5e-b8ec-f702ed0e06af",
        "_uuid": "94202fbc047d59fa5c8b81ba02962f1f3cc56d8f",
        "id": "Li3kxN9hIq2a"
      },
      "source": [
        "<a id=\"18\"></a> <br>\n",
        "## Create Model\n",
        "* Lets put them all together"
      ]
    },
    {
      "cell_type": "code",
      "execution_count": null,
      "metadata": {
        "_cell_guid": "b66f3c28-0f71-4176-8a6b-35b98b0db936",
        "_uuid": "9babf239f800bedc9864c6a75677985d57f1cc78",
        "id": "-opDU24yIq2a",
        "outputId": "c1c6445d-2c6c-429c-fd64-2ad1c132bea1",
        "colab": {
          "base_uri": "https://localhost:8080/",
          "height": 940
        }
      },
      "outputs": [
        {
          "output_type": "stream",
          "name": "stdout",
          "text": [
            "Cost after iteration 0: 0.333850\n",
            "Cost after iteration 100: 0.334183\n",
            "Cost after iteration 200: 0.330746\n",
            "Cost after iteration 300: 0.319285\n",
            "Cost after iteration 400: 0.293073\n",
            "Cost after iteration 500: 0.258756\n",
            "Cost after iteration 600: 0.222979\n",
            "Cost after iteration 700: 0.191126\n",
            "Cost after iteration 800: 0.164538\n",
            "Cost after iteration 900: 0.142562\n",
            "Cost after iteration 1000: 0.126807\n",
            "Cost after iteration 1100: 0.110538\n",
            "Cost after iteration 1200: 0.105392\n",
            "Cost after iteration 1300: 0.088533\n",
            "Cost after iteration 1400: 0.079930\n",
            "Cost after iteration 1500: 0.072687\n",
            "Cost after iteration 1600: 0.066533\n",
            "Cost after iteration 1700: 0.061256\n",
            "Cost after iteration 1800: 0.056678\n",
            "Cost after iteration 1900: 0.052635\n",
            "Cost after iteration 2000: 0.048944\n",
            "Cost after iteration 2100: 0.045361\n",
            "Cost after iteration 2200: 0.041643\n",
            "Cost after iteration 2300: 0.038041\n",
            "Cost after iteration 2400: 0.035093\n"
          ]
        },
        {
          "output_type": "display_data",
          "data": {
            "text/plain": [
              "<Figure size 640x480 with 1 Axes>"
            ],
            "image/png": "[encoded data removed]"
          },
          "metadata": {}
        },
        {
          "output_type": "stream",
          "name": "stdout",
          "text": [
            "train accuracy: 100.0 %\n",
            "test accuracy: 95.16129032258064 %\n"
          ]
        }
      ],
      "source": [
        "# 2 - Layer neural network\n",
        "def two_layer_neural_network(x_train, y_train,x_test,y_test, num_iterations):\n",
        "    cost_list = []\n",
        "    index_list = []\n",
        "    #initialize parameters and layer sizes\n",
        "    parameters = initialize_parameters_and_layer_sizes_NN(x_train, y_train)\n",
        "\n",
        "    for i in range(0, num_iterations):\n",
        "         # forward propagation\n",
        "        A2, cache = forward_propagation_NN(x_train,parameters)\n",
        "        # compute cost\n",
        "        cost = compute_cost_NN(A2, y_train, parameters)\n",
        "         # backward propagation\n",
        "        grads = backward_propagation_NN(parameters, cache, x_train, y_train)\n",
        "         # update parameters\n",
        "        parameters = update_parameters_NN(parameters, grads)\n",
        "\n",
        "        if i % 100 == 0:\n",
        "            cost_list.append(cost)\n",
        "            index_list.append(i)\n",
        "            print (\"Cost after iteration %i: %f\" %(i, cost))\n",
        "    plt.plot(index_list,cost_list)\n",
        "    plt.xticks(index_list,rotation='vertical')\n",
        "    plt.xlabel(\"Number of Iterarion\")\n",
        "    plt.ylabel(\"Cost\")\n",
        "    plt.show()\n",
        "\n",
        "    # predict\n",
        "    y_prediction_test = predict_NN(parameters,x_test)\n",
        "    y_prediction_train = predict_NN(parameters,x_train)\n",
        "\n",
        "    # Print train/test Errors\n",
        "    print(\"train accuracy: {} %\".format(100 - np.mean(np.abs(y_prediction_train - y_train)) * 100))\n",
        "    print(\"test accuracy: {} %\".format(100 - np.mean(np.abs(y_prediction_test - y_test)) * 100))\n",
        "    return parameters\n",
        "\n",
        "parameters = two_layer_neural_network(x_train, y_train,x_test,y_test, num_iterations=2500)"
      ]
    },
    {
      "cell_type": "markdown",
      "metadata": {
        "_cell_guid": "04d3b704-2fd4-410b-ad90-a5a0aedd4b7d",
        "_uuid": "62bb69efcf883ba22581dfc8d4f2e0eaa2d99ee3",
        "id": "X7hmoIrzIq2a"
      },
      "source": [
        "<font color='purple'>\n",
        "Up to this point we create 2 layer neural network and learn how to implement\n",
        "* Size of layers and initializing parameters weights and bias\n",
        "* Forward propagation\n",
        "* Loss function and Cost function\n",
        "* Backward propagation\n",
        "* Update Parameters\n",
        "* Prediction with learnt parameters weight and bias\n",
        "* Create Model\n",
        "\n",
        "<br> Now lets learn how to implement L layer neural network with keras."
      ]
    },
    {
      "cell_type": "code",
      "source": [],
      "metadata": {
        "id": "zvMdKq1xJAnK"
      },
      "execution_count": null,
      "outputs": []
    },
    {
      "cell_type": "code",
      "source": [],
      "metadata": {
        "id": "SMt_o9JuJCBn"
      },
      "execution_count": null,
      "outputs": []
    },
    {
      "cell_type": "code",
      "source": [],
      "metadata": {
        "id": "Y7INp_FvJCEu"
      },
      "execution_count": null,
      "outputs": []
    },
    {
      "cell_type": "code",
      "source": [],
      "metadata": {
        "id": "kHvPYmaXJCHb"
      },
      "execution_count": null,
      "outputs": []
    },
    {
      "cell_type": "code",
      "source": [],
      "metadata": {
        "id": "jLaR_v8HJCJ5"
      },
      "execution_count": null,
      "outputs": []
    },
    {
      "cell_type": "code",
      "source": [],
      "metadata": {
        "id": "EAtpkBLCJCM0"
      },
      "execution_count": null,
      "outputs": []
    },
    {
      "cell_type": "code",
      "source": [],
      "metadata": {
        "id": "haAfYuQgJCPX"
      },
      "execution_count": null,
      "outputs": []
    },
    {
      "cell_type": "code",
      "source": [],
      "metadata": {
        "id": "ZNVp2rcDJCSR"
      },
      "execution_count": null,
      "outputs": []
    },
    {
      "cell_type": "code",
      "source": [],
      "metadata": {
        "id": "XCYO376MJCU-"
      },
      "execution_count": null,
      "outputs": []
    },
    {
      "cell_type": "code",
      "source": [],
      "metadata": {
        "id": "xR7cbdvRJC6R"
      },
      "execution_count": null,
      "outputs": []
    },
    {
      "cell_type": "code",
      "source": [],
      "metadata": {
        "id": "s6_PkZG3JC9Z"
      },
      "execution_count": null,
      "outputs": []
    },
    {
      "cell_type": "code",
      "source": [],
      "metadata": {
        "id": "70eLRURtJDAW"
      },
      "execution_count": null,
      "outputs": []
    },
    {
      "cell_type": "markdown",
      "metadata": {
        "_cell_guid": "c054ed2a-9dd9-498c-9be6-6e9b16ff5913",
        "_uuid": "aa2f896b72236e09687afc3c613a4fc801b16552",
        "id": "1SyA2VMfIq2a"
      },
      "source": [
        "<a id=\"19\"></a> <br>\n",
        "# L Layer Neural Network\n",
        "* **What happens if number of hidden layer increase:** Earlier layerls can detect simple features.\n",
        "* When model composing simple features together in later layers of neural network that it can learn more and more complex functions. For example, lets look at our sign one.\n",
        "<a href=\"http://ibb.co/dNgDJH\"><img src=\"http://preview.ibb.co/mpD4Qx/10.jpg\" alt=\"10\" border=\"0\"></a>\n",
        "* For example first hidden layer learns edges or basic shapes like line. When number of layer increase, layers start to learn more complex things like convex shapes or characteristic features like forefinger.\n",
        "* Lets create our model\n",
        "    * There are some hyperparameters we need to choose like learning rate, number of iterations, number of hidden layer, number of hidden units, type of activation functions. Woww it is too much :)\n",
        "    * These hyperparameters can be chosen intiutively if you spend a lot of time in deep learning world.\n",
        "    * However, if you do not spend too much time, the best way is to google it but it is not necessary. You need to try hyperparameters to find best one.\n",
        "    * In this tutorial our model will have 2 hidden layer with 8 and4 nodes, respectively. Because when number of hidden layer and node increase, it takes too much time.\n",
        "    * As a activation function we will use relu(first hidden layer), relu(second hidden layer) and sigmoid(output layer) respectively.\n",
        "    * Number of iteration will be 100.\n",
        "* Our way is same with previous parts however as you learn the logic behind deep learning, we can ease our job and use keras library for deeper neural networks.\n",
        "* First lets reshape our x_train, x_test, y_train and y_test.\n",
        "\n",
        "    \n",
        "    "
      ]
    },
    {
      "cell_type": "code",
      "execution_count": null,
      "metadata": {
        "_cell_guid": "631a05c4-e362-4fa0-9048-21c599f55344",
        "_uuid": "0a978924a68d423de4babe73c15412ad938c1858",
        "id": "1CtaI6H0Iq2a"
      },
      "outputs": [],
      "source": [
        "# reshaping\n",
        "x_train, x_test, y_train, y_test = x_train.T, x_test.T, y_train.T, y_test.T"
      ]
    },
    {
      "cell_type": "markdown",
      "metadata": {
        "_cell_guid": "e17b5a34-00dc-49a8-b7ac-a2bd3a753f78",
        "_uuid": "5a78a5570bc50180a02190dee46180f19eb165e1",
        "id": "QRv0fB8GIq2a"
      },
      "source": [
        "<a id=\"22\"></a> <br>\n",
        "## Implementing with keras library\n",
        "Lets look at some parameters of keras library:\n",
        "* units: output dimensions of node\n",
        "* kernel_initializer: to initialize weights\n",
        "* activation: activation function, we use relu\n",
        "* input_dim: input dimension that is number of pixels in our images (4096 px)\n",
        "* optimizer: we use adam optimizer\n",
        "    * Adam is one of the most effective optimization algorithms for training neural networks.\n",
        "    * Some advantages of Adam is that relatively low memory requirements and usually works well even with little tuning of hyperparameters\n",
        "* loss: Cost function is same. By the way the name of the cost function is cross-entropy cost function that we use previous parts.\n",
        "$$J = - \\frac{1}{m} \\sum\\limits_{i = 0}^{m} \\large\\left(\\small y^{(i)}\\log\\left(a^{[2] (i)}\\right) + (1-y^{(i)})\\log\\left(1- a^{[2] (i)}\\right)  \\large  \\right) \\small \\tag{6}$$\n",
        "* metrics: it is accuracy.\n",
        "* cross_val_score: use cross validation. If you do not know cross validation please chech it from my machine learning tutorial. https://www.kaggle.com/kanncaa1/machine-learning-tutorial-for-beginners\n",
        "* epochs: number of iteration"
      ]
    },
    {
      "cell_type": "code",
      "execution_count": null,
      "metadata": {
        "_cell_guid": "8870c45b-b0fe-4050-a8af-41498a417ed5",
        "_uuid": "9361c3183a40fa0080055b7d5c1002aef68b4d77",
        "id": "SbjgIv_IIq2a"
      },
      "outputs": [],
      "source": [
        "# Evaluating the ANN\n",
        "from keras.wrappers.scikit_learn import KerasClassifier\n",
        "from sklearn.model_selection import cross_val_score\n",
        "from keras.models import Sequential # initialize neural network library\n",
        "from keras.layers import Dense # build our layers library\n",
        "def build_classifier():\n",
        "    classifier = Sequential() # initialize neural network\n",
        "    classifier.add(Dense(units = 8, kernel_initializer = 'uniform', activation = 'relu', input_dim = x_train.shape[1]))\n",
        "    classifier.add(Dense(units = 4, kernel_initializer = 'uniform', activation = 'relu'))\n",
        "    classifier.add(Dense(units = 1, kernel_initializer = 'uniform', activation = 'sigmoid'))\n",
        "    classifier.compile(optimizer = 'adam', loss = 'binary_crossentropy', metrics = ['accuracy'])\n",
        "    return classifier\n",
        "classifier = KerasClassifier(build_fn = build_classifier, epochs = 100)\n",
        "accuracies = cross_val_score(estimator = classifier, X = x_train, y = y_train, cv = 3)\n",
        "mean = accuracies.mean()\n",
        "variance = accuracies.std()\n",
        "print(\"Accuracy mean: \"+ str(mean))\n",
        "print(\"Accuracy variance: \"+ str(variance))"
      ]
    },
    {
      "cell_type": "code",
      "execution_count": null,
      "metadata": {
        "_uuid": "59ad9da159449a3ed9e99ed0ec931ee14b7aab66",
        "id": "1GJPuY_xIq2a"
      },
      "outputs": [],
      "source": []
    },
    {
      "cell_type": "markdown",
      "metadata": {
        "_cell_guid": "3963de5c-1b2e-45ec-b499-4c404afa8595",
        "_uuid": "a73620b9d04cd7627e7da9961db541140dfd8467",
        "id": "pN-6fPm8Iq2b"
      },
      "source": [
        "<a id=\"23\"></a> <br>\n",
        "## Artificial Neural Network with Pytorch library.\n",
        "* Pytorch is one of the frame works like keras.\n",
        "* It eases implementing and constructing deep learning blocks.  \n",
        "* Artificial Neural Network: https://www.kaggle.com/kanncaa1/pytorch-tutorial-for-deep-learning-lovers"
      ]
    },
    {
      "cell_type": "markdown",
      "metadata": {
        "_cell_guid": "46ac06d5-1f74-4e8d-b7b6-189a1b7bf646",
        "_uuid": "b57204c8acc548963ad6be04f75baef0bf09219f",
        "id": "5iM-YQEeIq2b"
      },
      "source": [
        "<a id=\"24\"></a> <br>\n",
        "## Convolutional Neural Network with Pytorch library.\n",
        "* Pytorch is one of the frame works like keras.\n",
        "* It eases implementing and constructing deep learning blocks.  \n",
        "* Convolutional Neural Network: https://www.kaggle.com/kanncaa1/pytorch-tutorial-for-deep-learning-lovers"
      ]
    },
    {
      "cell_type": "markdown",
      "metadata": {
        "_cell_guid": "d7273dad-b03c-453f-b444-d1a910d6d2a3",
        "_uuid": "e5c5e2dbf4d36428211699a43b819b2ea95600ea",
        "id": "W4XbxTVsIq2b"
      },
      "source": [
        "<a id=\"25\"></a> <br>\n",
        "## Recurrent Neural Network with Pytorch library.\n",
        "* Pytorch is one of the frame works like keras.\n",
        "* It eases implementing and constructing deep learning blocks.  \n",
        "* Recurrent Neural Network: https://www.kaggle.com/kanncaa1/recurrent-neural-network-with-pytorch"
      ]
    },
    {
      "cell_type": "markdown",
      "metadata": {
        "_cell_guid": "1a62d8b1-8308-4654-bdfd-479965ee08af",
        "_uuid": "dc3f380e7953a5c3bb6580b30c0da7cb94599c81",
        "id": "S52knfgAIq2b"
      },
      "source": [
        "<a id=\"20\"></a> <br>\n",
        "# Conclusion\n",
        "* First of all thanks for this data set.\n",
        "* If you see my wrong spelling (it can be so much) please ignore them :)\n",
        "* This tutorial is shallow, if you want more detail about some concepts you can comment.\n",
        "* If you think that I cannot explain some concepts please learn it from youtube(especially Andrew) and then continue.\n",
        "* If you do not understand some thing that is related with python or machine learning please check my other tutorials\n",
        "    * Data Science: https://www.kaggle.com/kanncaa1/data-sciencetutorial-for-beginners\n",
        "    * Machine learning: https://www.kaggle.com/kanncaa1/machine-learning-tutorial-for-beginners\n",
        "* Now I hope you understand and learn what is deep learning. However, we do not write long codes for each time to build deep learning model. Therefore, there are a deep learning frame works to build deep learning models fast and easy.\n",
        "    * Artificial Neural Network: https://www.kaggle.com/kanncaa1/pytorch-tutorial-for-deep-learning-lovers\n",
        "    * Convolutional Neural Network: https://www.kaggle.com/kanncaa1/pytorch-tutorial-for-deep-learning-lovers\n",
        "    * Recurrent Neural Network: https://www.kaggle.com/kanncaa1/recurrent-neural-network-with-pytorch\n",
        "     \n",
        "\n",
        "### <br> If you like it, please upvote :)\n",
        "## <br> If you have any question, I will be appreciate to hear it.\n"
      ]
    }
  ],
  "metadata": {
    "kernelspec": {
      "display_name": "Python 3",
      "language": "python",
      "name": "python3"
    },
    "language_info": {
      "codemirror_mode": {
        "name": "ipython",
        "version": 3
      },
      "file_extension": ".py",
      "mimetype": "text/x-python",
      "name": "python",
      "nbconvert_exporter": "python",
      "pygments_lexer": "ipython3",
      "version": "3.6.6"
    },
    "colab": {
      "provenance": []
    }
  },
  "nbformat": 4,
  "nbformat_minor": 0
}